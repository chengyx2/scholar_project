{
 "cells": [
  {
   "cell_type": "code",
   "execution_count": 136,
   "metadata": {},
   "outputs": [],
   "source": [
    "import pandas as pd \n",
    "import json\n",
    "import plotly.express as px\n",
    "import plotly.graph_objects as go"
   ]
  },
  {
   "cell_type": "code",
   "execution_count": 88,
   "metadata": {},
   "outputs": [],
   "source": [
    "classes = [\"big-data-and-cloud-computing\",\"block-chain\",\"data-analyst\",\"data-scientist\",\"deep-learning\",\"machine-learning\",\"natural-language-processing\",\"neural-networks\",\"reinforcement-learning\"]\n",
    "wants = ['title', 'company_name', 'location', 'via', 'description']\n",
    "title,company_name,location,via,description,types = [],[],[],[],[],[]\n",
    "for i in classes:\n",
    "    x = 0\n",
    "    while x < 100:\n",
    "        file_path = \"2023-04-14-job-search-location-USA/\"+ i + \"-\" + str(x) + \".json\"\n",
    "        try:\n",
    "            with open(file_path) as json_file:\n",
    "                data = json.load(json_file)\n",
    "            for ob in range(len(data[\"jobs_results\"])):\n",
    "                title.append(data[\"jobs_results\"][ob][\"title\"])\n",
    "                company_name.append(data[\"jobs_results\"][ob][\"company_name\"])\n",
    "                location.append(data[\"jobs_results\"][ob][\"location\"])\n",
    "                via.append(data[\"jobs_results\"][ob][\"via\"])\n",
    "                description.append(data[\"jobs_results\"][ob][\"description\"])\n",
    "                types.append(i)\n",
    "        except:\n",
    "            break\n",
    "        x += 1\n",
    "\n"
   ]
  },
  {
   "cell_type": "code",
   "execution_count": 183,
   "metadata": {},
   "outputs": [
    {
     "data": {
      "text/html": [
       "<div>\n",
       "<style scoped>\n",
       "    .dataframe tbody tr th:only-of-type {\n",
       "        vertical-align: middle;\n",
       "    }\n",
       "\n",
       "    .dataframe tbody tr th {\n",
       "        vertical-align: top;\n",
       "    }\n",
       "\n",
       "    .dataframe thead th {\n",
       "        text-align: right;\n",
       "    }\n",
       "</style>\n",
       "<table border=\"1\" class=\"dataframe\">\n",
       "  <thead>\n",
       "    <tr style=\"text-align: right;\">\n",
       "      <th></th>\n",
       "      <th>title</th>\n",
       "      <th>company_name</th>\n",
       "      <th>location</th>\n",
       "      <th>via</th>\n",
       "      <th>description</th>\n",
       "      <th>type</th>\n",
       "    </tr>\n",
       "  </thead>\n",
       "  <tbody>\n",
       "    <tr>\n",
       "      <th>0</th>\n",
       "      <td>Sales Engineer, Data Analytics, Google Cloud</td>\n",
       "      <td>Google</td>\n",
       "      <td>UT</td>\n",
       "      <td>Google</td>\n",
       "      <td>When leading companies choose Google Cloud it'...</td>\n",
       "      <td>big-data-and-cloud-computing</td>\n",
       "    </tr>\n",
       "    <tr>\n",
       "      <th>1</th>\n",
       "      <td>John Deere (Cloud &amp; Big Data Engineer)_2022.06</td>\n",
       "      <td>Full Stack Resources</td>\n",
       "      <td>IL</td>\n",
       "      <td>Recruiterflow</td>\n",
       "      <td>CLOUD &amp; BIG DATA ENGINEER\\n• Must have at leas...</td>\n",
       "      <td>big-data-and-cloud-computing</td>\n",
       "    </tr>\n",
       "    <tr>\n",
       "      <th>2</th>\n",
       "      <td>Cloud Consultant, Big Data and Analytics, Goog...</td>\n",
       "      <td>Google</td>\n",
       "      <td>VA</td>\n",
       "      <td>Karkidi</td>\n",
       "      <td>Minimum qualifications:\\n• Bachelor’s degree i...</td>\n",
       "      <td>big-data-and-cloud-computing</td>\n",
       "    </tr>\n",
       "    <tr>\n",
       "      <th>3</th>\n",
       "      <td>Lead Software Engineer, Cloud and Big Data</td>\n",
       "      <td>JPMorgan Chase</td>\n",
       "      <td>DE</td>\n",
       "      <td>LocalJobs.com</td>\n",
       "      <td>As a Lead Software Engineer, Cloud and Big Dat...</td>\n",
       "      <td>big-data-and-cloud-computing</td>\n",
       "    </tr>\n",
       "    <tr>\n",
       "      <th>4</th>\n",
       "      <td>Data Architect, Big Data, Cloud Technologies</td>\n",
       "      <td>Elevance Health</td>\n",
       "      <td>GA</td>\n",
       "      <td>ZipRecruiter</td>\n",
       "      <td>Position Title:\\nData Architect, Big Data, Clo...</td>\n",
       "      <td>big-data-and-cloud-computing</td>\n",
       "    </tr>\n",
       "    <tr>\n",
       "      <th>...</th>\n",
       "      <td>...</td>\n",
       "      <td>...</td>\n",
       "      <td>...</td>\n",
       "      <td>...</td>\n",
       "      <td>...</td>\n",
       "      <td>...</td>\n",
       "    </tr>\n",
       "    <tr>\n",
       "      <th>445</th>\n",
       "      <td>Research Intern - Machine Learning</td>\n",
       "      <td>Microsoft</td>\n",
       "      <td>WA</td>\n",
       "      <td>Microsoft</td>\n",
       "      <td>Research Internships at Microsoft provide a dy...</td>\n",
       "      <td>reinforcement-learning</td>\n",
       "    </tr>\n",
       "    <tr>\n",
       "      <th>446</th>\n",
       "      <td>Senior Machine Learning and Perception Engineer</td>\n",
       "      <td>Teradyne</td>\n",
       "      <td>MA</td>\n",
       "      <td>Teradyne</td>\n",
       "      <td>Organization &amp; Role\\n\\nMobile Industrial Robot...</td>\n",
       "      <td>reinforcement-learning</td>\n",
       "    </tr>\n",
       "    <tr>\n",
       "      <th>447</th>\n",
       "      <td>Machine Learning Internship</td>\n",
       "      <td>Got It AI</td>\n",
       "      <td>CA</td>\n",
       "      <td>AngelList</td>\n",
       "      <td>About Got It AI\\n\\nGot It AI has transformed t...</td>\n",
       "      <td>reinforcement-learning</td>\n",
       "    </tr>\n",
       "    <tr>\n",
       "      <th>448</th>\n",
       "      <td>Hewlett Packard Labs - Machine Learning Resear...</td>\n",
       "      <td>HPE1US</td>\n",
       "      <td>CA</td>\n",
       "      <td>HPE</td>\n",
       "      <td>Hewlett Packard Labs - Machine Learning Resear...</td>\n",
       "      <td>reinforcement-learning</td>\n",
       "    </tr>\n",
       "    <tr>\n",
       "      <th>449</th>\n",
       "      <td>Hewlett Packard Labs - Machine Learning Resear...</td>\n",
       "      <td>Hewlett Packard Enterprise</td>\n",
       "      <td>CA</td>\n",
       "      <td>Diversity.com</td>\n",
       "      <td>Hewlett Packard Labs - Machine Learning Resear...</td>\n",
       "      <td>reinforcement-learning</td>\n",
       "    </tr>\n",
       "  </tbody>\n",
       "</table>\n",
       "<p>450 rows × 6 columns</p>\n",
       "</div>"
      ],
      "text/plain": [
       "                                                 title   \n",
       "0         Sales Engineer, Data Analytics, Google Cloud  \\\n",
       "1       John Deere (Cloud & Big Data Engineer)_2022.06   \n",
       "2    Cloud Consultant, Big Data and Analytics, Goog...   \n",
       "3           Lead Software Engineer, Cloud and Big Data   \n",
       "4         Data Architect, Big Data, Cloud Technologies   \n",
       "..                                                 ...   \n",
       "445                 Research Intern - Machine Learning   \n",
       "446    Senior Machine Learning and Perception Engineer   \n",
       "447                        Machine Learning Internship   \n",
       "448  Hewlett Packard Labs - Machine Learning Resear...   \n",
       "449  Hewlett Packard Labs - Machine Learning Resear...   \n",
       "\n",
       "                   company_name location            via   \n",
       "0                        Google    UT            Google  \\\n",
       "1          Full Stack Resources    IL     Recruiterflow   \n",
       "2                        Google    VA           Karkidi   \n",
       "3                JPMorgan Chase    DE     LocalJobs.com   \n",
       "4               Elevance Health    GA      ZipRecruiter   \n",
       "..                          ...      ...            ...   \n",
       "445                   Microsoft    WA         Microsoft   \n",
       "446                    Teradyne    MA          Teradyne   \n",
       "447                   Got It AI    CA         AngelList   \n",
       "448                      HPE1US    CA               HPE   \n",
       "449  Hewlett Packard Enterprise    CA     Diversity.com   \n",
       "\n",
       "                                           description   \n",
       "0    When leading companies choose Google Cloud it'...  \\\n",
       "1    CLOUD & BIG DATA ENGINEER\\n• Must have at leas...   \n",
       "2    Minimum qualifications:\\n• Bachelor’s degree i...   \n",
       "3    As a Lead Software Engineer, Cloud and Big Dat...   \n",
       "4    Position Title:\\nData Architect, Big Data, Clo...   \n",
       "..                                                 ...   \n",
       "445  Research Internships at Microsoft provide a dy...   \n",
       "446  Organization & Role\\n\\nMobile Industrial Robot...   \n",
       "447  About Got It AI\\n\\nGot It AI has transformed t...   \n",
       "448  Hewlett Packard Labs - Machine Learning Resear...   \n",
       "449  Hewlett Packard Labs - Machine Learning Resear...   \n",
       "\n",
       "                             type  \n",
       "0    big-data-and-cloud-computing  \n",
       "1    big-data-and-cloud-computing  \n",
       "2    big-data-and-cloud-computing  \n",
       "3    big-data-and-cloud-computing  \n",
       "4    big-data-and-cloud-computing  \n",
       "..                            ...  \n",
       "445        reinforcement-learning  \n",
       "446        reinforcement-learning  \n",
       "447        reinforcement-learning  \n",
       "448        reinforcement-learning  \n",
       "449        reinforcement-learning  \n",
       "\n",
       "[450 rows x 6 columns]"
      ]
     },
     "execution_count": 183,
     "metadata": {},
     "output_type": "execute_result"
    }
   ],
   "source": [
    "df_USA = pd.DataFrame({\"title\":title, \"company_name\":company_name, \"location\":location, \"via\":via, \"description\":description, \"type\":types})\n",
    "df_USA[\"location\"] = df_USA[\"location\"].str.split(\", \").str[1]\n",
    "df_USA[\"via\"] = df_USA[\"via\"].str.split(\" \").str[1]\n",
    "df_USA\n"
   ]
  },
  {
   "cell_type": "code",
   "execution_count": 111,
   "metadata": {},
   "outputs": [
    {
     "data": {
      "text/html": [
       "<div>\n",
       "<style scoped>\n",
       "    .dataframe tbody tr th:only-of-type {\n",
       "        vertical-align: middle;\n",
       "    }\n",
       "\n",
       "    .dataframe tbody tr th {\n",
       "        vertical-align: top;\n",
       "    }\n",
       "\n",
       "    .dataframe thead th {\n",
       "        text-align: right;\n",
       "    }\n",
       "</style>\n",
       "<table border=\"1\" class=\"dataframe\">\n",
       "  <thead>\n",
       "    <tr style=\"text-align: right;\">\n",
       "      <th></th>\n",
       "      <th>count</th>\n",
       "      <th>location</th>\n",
       "    </tr>\n",
       "    <tr>\n",
       "      <th>location</th>\n",
       "      <th></th>\n",
       "      <th></th>\n",
       "    </tr>\n",
       "  </thead>\n",
       "  <tbody>\n",
       "    <tr>\n",
       "      <th>CA</th>\n",
       "      <td>89</td>\n",
       "      <td>CA</td>\n",
       "    </tr>\n",
       "    <tr>\n",
       "      <th>MD</th>\n",
       "      <td>32</td>\n",
       "      <td>MD</td>\n",
       "    </tr>\n",
       "    <tr>\n",
       "      <th>NY</th>\n",
       "      <td>24</td>\n",
       "      <td>NY</td>\n",
       "    </tr>\n",
       "    <tr>\n",
       "      <th>TX</th>\n",
       "      <td>20</td>\n",
       "      <td>TX</td>\n",
       "    </tr>\n",
       "    <tr>\n",
       "      <th>IL</th>\n",
       "      <td>17</td>\n",
       "      <td>IL</td>\n",
       "    </tr>\n",
       "    <tr>\n",
       "      <th>MA</th>\n",
       "      <td>17</td>\n",
       "      <td>MA</td>\n",
       "    </tr>\n",
       "    <tr>\n",
       "      <th>WA</th>\n",
       "      <td>11</td>\n",
       "      <td>WA</td>\n",
       "    </tr>\n",
       "    <tr>\n",
       "      <th>CO</th>\n",
       "      <td>8</td>\n",
       "      <td>CO</td>\n",
       "    </tr>\n",
       "    <tr>\n",
       "      <th>AR</th>\n",
       "      <td>7</td>\n",
       "      <td>AR</td>\n",
       "    </tr>\n",
       "    <tr>\n",
       "      <th>VA</th>\n",
       "      <td>7</td>\n",
       "      <td>VA</td>\n",
       "    </tr>\n",
       "    <tr>\n",
       "      <th>OK</th>\n",
       "      <td>6</td>\n",
       "      <td>OK</td>\n",
       "    </tr>\n",
       "    <tr>\n",
       "      <th>NJ</th>\n",
       "      <td>6</td>\n",
       "      <td>NJ</td>\n",
       "    </tr>\n",
       "    <tr>\n",
       "      <th>KS</th>\n",
       "      <td>6</td>\n",
       "      <td>KS</td>\n",
       "    </tr>\n",
       "    <tr>\n",
       "      <th>MN</th>\n",
       "      <td>5</td>\n",
       "      <td>MN</td>\n",
       "    </tr>\n",
       "    <tr>\n",
       "      <th>DC</th>\n",
       "      <td>4</td>\n",
       "      <td>DC</td>\n",
       "    </tr>\n",
       "    <tr>\n",
       "      <th>GA</th>\n",
       "      <td>4</td>\n",
       "      <td>GA</td>\n",
       "    </tr>\n",
       "    <tr>\n",
       "      <th>TN</th>\n",
       "      <td>4</td>\n",
       "      <td>TN</td>\n",
       "    </tr>\n",
       "    <tr>\n",
       "      <th>WI</th>\n",
       "      <td>4</td>\n",
       "      <td>WI</td>\n",
       "    </tr>\n",
       "    <tr>\n",
       "      <th>IN</th>\n",
       "      <td>3</td>\n",
       "      <td>IN</td>\n",
       "    </tr>\n",
       "    <tr>\n",
       "      <th>MO</th>\n",
       "      <td>3</td>\n",
       "      <td>MO</td>\n",
       "    </tr>\n",
       "    <tr>\n",
       "      <th>UT</th>\n",
       "      <td>3</td>\n",
       "      <td>UT</td>\n",
       "    </tr>\n",
       "    <tr>\n",
       "      <th>NC</th>\n",
       "      <td>3</td>\n",
       "      <td>NC</td>\n",
       "    </tr>\n",
       "    <tr>\n",
       "      <th>NE</th>\n",
       "      <td>2</td>\n",
       "      <td>NE</td>\n",
       "    </tr>\n",
       "    <tr>\n",
       "      <th>MI</th>\n",
       "      <td>2</td>\n",
       "      <td>MI</td>\n",
       "    </tr>\n",
       "    <tr>\n",
       "      <th>FL</th>\n",
       "      <td>2</td>\n",
       "      <td>FL</td>\n",
       "    </tr>\n",
       "    <tr>\n",
       "      <th>SC</th>\n",
       "      <td>2</td>\n",
       "      <td>SC</td>\n",
       "    </tr>\n",
       "    <tr>\n",
       "      <th>KY</th>\n",
       "      <td>1</td>\n",
       "      <td>KY</td>\n",
       "    </tr>\n",
       "    <tr>\n",
       "      <th>AZ</th>\n",
       "      <td>1</td>\n",
       "      <td>AZ</td>\n",
       "    </tr>\n",
       "    <tr>\n",
       "      <th>OH</th>\n",
       "      <td>1</td>\n",
       "      <td>OH</td>\n",
       "    </tr>\n",
       "    <tr>\n",
       "      <th>NY   (+2 others)</th>\n",
       "      <td>1</td>\n",
       "      <td>NY</td>\n",
       "    </tr>\n",
       "    <tr>\n",
       "      <th>DE</th>\n",
       "      <td>1</td>\n",
       "      <td>DE</td>\n",
       "    </tr>\n",
       "    <tr>\n",
       "      <th>TX  (+1 other)</th>\n",
       "      <td>1</td>\n",
       "      <td>TX</td>\n",
       "    </tr>\n",
       "    <tr>\n",
       "      <th>NV</th>\n",
       "      <td>1</td>\n",
       "      <td>NV</td>\n",
       "    </tr>\n",
       "    <tr>\n",
       "      <th>MA  (+1 other)</th>\n",
       "      <td>1</td>\n",
       "      <td>MA</td>\n",
       "    </tr>\n",
       "    <tr>\n",
       "      <th>IL   (+12 others)</th>\n",
       "      <td>1</td>\n",
       "      <td>IL</td>\n",
       "    </tr>\n",
       "    <tr>\n",
       "      <th>AL</th>\n",
       "      <td>1</td>\n",
       "      <td>AL</td>\n",
       "    </tr>\n",
       "    <tr>\n",
       "      <th>PA</th>\n",
       "      <td>1</td>\n",
       "      <td>PA</td>\n",
       "    </tr>\n",
       "    <tr>\n",
       "      <th>LA</th>\n",
       "      <td>1</td>\n",
       "      <td>LA</td>\n",
       "    </tr>\n",
       "  </tbody>\n",
       "</table>\n",
       "</div>"
      ],
      "text/plain": [
       "                      count location\n",
       "location                            \n",
       "CA                       89       CA\n",
       "MD                       32       MD\n",
       "NY                       24       NY\n",
       "TX                       20       TX\n",
       "IL                       17       IL\n",
       "MA                       17       MA\n",
       "WA                       11       WA\n",
       "CO                        8       CO\n",
       "AR                        7       AR\n",
       "VA                        7       VA\n",
       "OK                        6       OK\n",
       "NJ                        6       NJ\n",
       "KS                        6       KS\n",
       "MN                        5       MN\n",
       "DC                        4       DC\n",
       "GA                        4       GA\n",
       "TN                        4       TN\n",
       "WI                        4       WI\n",
       "IN                        3       IN\n",
       "MO                        3       MO\n",
       "UT                        3       UT\n",
       "NC                        3       NC\n",
       "NE                        2       NE\n",
       "MI                        2       MI\n",
       "FL                        2       FL\n",
       "SC                        2       SC\n",
       "KY                        1       KY\n",
       "AZ                        1       AZ\n",
       "OH                        1       OH\n",
       "NY   (+2 others)          1       NY\n",
       "DE                        1       DE\n",
       "TX  (+1 other)            1       TX\n",
       "NV                        1       NV\n",
       "MA  (+1 other)            1       MA\n",
       "IL   (+12 others)         1       IL\n",
       "AL                        1       AL\n",
       "PA                        1       PA\n",
       "LA                        1       LA"
      ]
     },
     "execution_count": 111,
     "metadata": {},
     "output_type": "execute_result"
    }
   ],
   "source": [
    "\n",
    "dft = df_USA[\"location\"].value_counts()\n",
    "dft.columns = [\"location\", \"count\"]\n",
    "dft =pd.DataFrame(dft)\n",
    "dft[\"location\"] = dft.index\n",
    "dft[\"location\"] = dft[\"location\"].apply(lambda x: x[:2])\n",
    "dft"
   ]
  },
  {
   "cell_type": "code",
   "execution_count": 119,
   "metadata": {},
   "outputs": [
    {
     "data": {
      "application/vnd.plotly.v1+json": {
       "config": {
        "plotlyServerURL": "https://plot.ly"
       },
       "data": [
        {
         "coloraxis": "coloraxis",
         "customdata": [
          [
           89,
           "CA"
          ],
          [
           32,
           "MD"
          ],
          [
           24,
           "NY"
          ],
          [
           20,
           "TX"
          ],
          [
           17,
           "IL"
          ],
          [
           17,
           "MA"
          ],
          [
           11,
           "WA"
          ],
          [
           8,
           "CO"
          ],
          [
           7,
           "AR"
          ],
          [
           7,
           "VA"
          ],
          [
           6,
           "OK"
          ],
          [
           6,
           "NJ"
          ],
          [
           6,
           "KS"
          ],
          [
           5,
           "MN"
          ],
          [
           4,
           "DC"
          ],
          [
           4,
           "GA"
          ],
          [
           4,
           "TN"
          ],
          [
           4,
           "WI"
          ],
          [
           3,
           "IN"
          ],
          [
           3,
           "MO"
          ],
          [
           3,
           "UT"
          ],
          [
           3,
           "NC"
          ],
          [
           2,
           "NE"
          ],
          [
           2,
           "MI"
          ],
          [
           2,
           "FL"
          ],
          [
           2,
           "SC"
          ],
          [
           1,
           "KY"
          ],
          [
           1,
           "AZ"
          ],
          [
           1,
           "OH"
          ],
          [
           1,
           "NY"
          ],
          [
           1,
           "DE"
          ],
          [
           1,
           "TX"
          ],
          [
           1,
           "NV"
          ],
          [
           1,
           "MA"
          ],
          [
           1,
           "IL"
          ],
          [
           1,
           "AL"
          ],
          [
           1,
           "PA"
          ],
          [
           1,
           "LA"
          ]
         ],
         "geo": "geo",
         "hovertemplate": "<b>%{hovertext}</b><br><br>count=%{z}<extra></extra>",
         "hovertext": [
          "CA",
          "MD",
          "NY",
          "TX",
          "IL",
          "MA",
          "WA",
          "CO",
          "AR",
          "VA",
          "OK",
          "NJ",
          "KS",
          "MN",
          "DC",
          "GA",
          "TN",
          "WI",
          "IN",
          "MO",
          "UT",
          "NC",
          "NE",
          "MI",
          "FL",
          "SC",
          "KY",
          "AZ",
          "OH",
          "NY",
          "DE",
          "TX",
          "NV",
          "MA",
          "IL",
          "AL",
          "PA",
          "LA"
         ],
         "locationmode": "USA-states",
         "locations": [
          "CA",
          "MD",
          "NY",
          "TX",
          "IL",
          "MA",
          "WA",
          "CO",
          "AR",
          "VA",
          "OK",
          "NJ",
          "KS",
          "MN",
          "DC",
          "GA",
          "TN",
          "WI",
          "IN",
          "MO",
          "UT",
          "NC",
          "NE",
          "MI",
          "FL",
          "SC",
          "KY",
          "AZ",
          "OH",
          "NY",
          "DE",
          "TX",
          "NV",
          "MA",
          "IL",
          "AL",
          "PA",
          "LA"
         ],
         "name": "",
         "type": "choropleth",
         "z": [
          89,
          32,
          24,
          20,
          17,
          17,
          11,
          8,
          7,
          7,
          6,
          6,
          6,
          5,
          4,
          4,
          4,
          4,
          3,
          3,
          3,
          3,
          2,
          2,
          2,
          2,
          1,
          1,
          1,
          1,
          1,
          1,
          1,
          1,
          1,
          1,
          1,
          1
         ]
        }
       ],
       "layout": {
        "coloraxis": {
         "colorbar": {
          "title": {
           "text": "count"
          }
         },
         "colorscale": [
          [
           0,
           "#440154"
          ],
          [
           0.1111111111111111,
           "#482878"
          ],
          [
           0.2222222222222222,
           "#3e4989"
          ],
          [
           0.3333333333333333,
           "#31688e"
          ],
          [
           0.4444444444444444,
           "#26828e"
          ],
          [
           0.5555555555555556,
           "#1f9e89"
          ],
          [
           0.6666666666666666,
           "#35b779"
          ],
          [
           0.7777777777777778,
           "#6ece58"
          ],
          [
           0.8888888888888888,
           "#b5de2b"
          ],
          [
           1,
           "#fde725"
          ]
         ]
        },
        "geo": {
         "center": {},
         "domain": {
          "x": [
           0,
           1
          ],
          "y": [
           0,
           1
          ]
         },
         "scope": "usa"
        },
        "legend": {
         "tracegroupgap": 0
        },
        "template": {
         "data": {
          "bar": [
           {
            "error_x": {
             "color": "#2a3f5f"
            },
            "error_y": {
             "color": "#2a3f5f"
            },
            "marker": {
             "line": {
              "color": "#E5ECF6",
              "width": 0.5
             },
             "pattern": {
              "fillmode": "overlay",
              "size": 10,
              "solidity": 0.2
             }
            },
            "type": "bar"
           }
          ],
          "barpolar": [
           {
            "marker": {
             "line": {
              "color": "#E5ECF6",
              "width": 0.5
             },
             "pattern": {
              "fillmode": "overlay",
              "size": 10,
              "solidity": 0.2
             }
            },
            "type": "barpolar"
           }
          ],
          "carpet": [
           {
            "aaxis": {
             "endlinecolor": "#2a3f5f",
             "gridcolor": "white",
             "linecolor": "white",
             "minorgridcolor": "white",
             "startlinecolor": "#2a3f5f"
            },
            "baxis": {
             "endlinecolor": "#2a3f5f",
             "gridcolor": "white",
             "linecolor": "white",
             "minorgridcolor": "white",
             "startlinecolor": "#2a3f5f"
            },
            "type": "carpet"
           }
          ],
          "choropleth": [
           {
            "colorbar": {
             "outlinewidth": 0,
             "ticks": ""
            },
            "type": "choropleth"
           }
          ],
          "contour": [
           {
            "colorbar": {
             "outlinewidth": 0,
             "ticks": ""
            },
            "colorscale": [
             [
              0,
              "#0d0887"
             ],
             [
              0.1111111111111111,
              "#46039f"
             ],
             [
              0.2222222222222222,
              "#7201a8"
             ],
             [
              0.3333333333333333,
              "#9c179e"
             ],
             [
              0.4444444444444444,
              "#bd3786"
             ],
             [
              0.5555555555555556,
              "#d8576b"
             ],
             [
              0.6666666666666666,
              "#ed7953"
             ],
             [
              0.7777777777777778,
              "#fb9f3a"
             ],
             [
              0.8888888888888888,
              "#fdca26"
             ],
             [
              1,
              "#f0f921"
             ]
            ],
            "type": "contour"
           }
          ],
          "contourcarpet": [
           {
            "colorbar": {
             "outlinewidth": 0,
             "ticks": ""
            },
            "type": "contourcarpet"
           }
          ],
          "heatmap": [
           {
            "colorbar": {
             "outlinewidth": 0,
             "ticks": ""
            },
            "colorscale": [
             [
              0,
              "#0d0887"
             ],
             [
              0.1111111111111111,
              "#46039f"
             ],
             [
              0.2222222222222222,
              "#7201a8"
             ],
             [
              0.3333333333333333,
              "#9c179e"
             ],
             [
              0.4444444444444444,
              "#bd3786"
             ],
             [
              0.5555555555555556,
              "#d8576b"
             ],
             [
              0.6666666666666666,
              "#ed7953"
             ],
             [
              0.7777777777777778,
              "#fb9f3a"
             ],
             [
              0.8888888888888888,
              "#fdca26"
             ],
             [
              1,
              "#f0f921"
             ]
            ],
            "type": "heatmap"
           }
          ],
          "heatmapgl": [
           {
            "colorbar": {
             "outlinewidth": 0,
             "ticks": ""
            },
            "colorscale": [
             [
              0,
              "#0d0887"
             ],
             [
              0.1111111111111111,
              "#46039f"
             ],
             [
              0.2222222222222222,
              "#7201a8"
             ],
             [
              0.3333333333333333,
              "#9c179e"
             ],
             [
              0.4444444444444444,
              "#bd3786"
             ],
             [
              0.5555555555555556,
              "#d8576b"
             ],
             [
              0.6666666666666666,
              "#ed7953"
             ],
             [
              0.7777777777777778,
              "#fb9f3a"
             ],
             [
              0.8888888888888888,
              "#fdca26"
             ],
             [
              1,
              "#f0f921"
             ]
            ],
            "type": "heatmapgl"
           }
          ],
          "histogram": [
           {
            "marker": {
             "pattern": {
              "fillmode": "overlay",
              "size": 10,
              "solidity": 0.2
             }
            },
            "type": "histogram"
           }
          ],
          "histogram2d": [
           {
            "colorbar": {
             "outlinewidth": 0,
             "ticks": ""
            },
            "colorscale": [
             [
              0,
              "#0d0887"
             ],
             [
              0.1111111111111111,
              "#46039f"
             ],
             [
              0.2222222222222222,
              "#7201a8"
             ],
             [
              0.3333333333333333,
              "#9c179e"
             ],
             [
              0.4444444444444444,
              "#bd3786"
             ],
             [
              0.5555555555555556,
              "#d8576b"
             ],
             [
              0.6666666666666666,
              "#ed7953"
             ],
             [
              0.7777777777777778,
              "#fb9f3a"
             ],
             [
              0.8888888888888888,
              "#fdca26"
             ],
             [
              1,
              "#f0f921"
             ]
            ],
            "type": "histogram2d"
           }
          ],
          "histogram2dcontour": [
           {
            "colorbar": {
             "outlinewidth": 0,
             "ticks": ""
            },
            "colorscale": [
             [
              0,
              "#0d0887"
             ],
             [
              0.1111111111111111,
              "#46039f"
             ],
             [
              0.2222222222222222,
              "#7201a8"
             ],
             [
              0.3333333333333333,
              "#9c179e"
             ],
             [
              0.4444444444444444,
              "#bd3786"
             ],
             [
              0.5555555555555556,
              "#d8576b"
             ],
             [
              0.6666666666666666,
              "#ed7953"
             ],
             [
              0.7777777777777778,
              "#fb9f3a"
             ],
             [
              0.8888888888888888,
              "#fdca26"
             ],
             [
              1,
              "#f0f921"
             ]
            ],
            "type": "histogram2dcontour"
           }
          ],
          "mesh3d": [
           {
            "colorbar": {
             "outlinewidth": 0,
             "ticks": ""
            },
            "type": "mesh3d"
           }
          ],
          "parcoords": [
           {
            "line": {
             "colorbar": {
              "outlinewidth": 0,
              "ticks": ""
             }
            },
            "type": "parcoords"
           }
          ],
          "pie": [
           {
            "automargin": true,
            "type": "pie"
           }
          ],
          "scatter": [
           {
            "fillpattern": {
             "fillmode": "overlay",
             "size": 10,
             "solidity": 0.2
            },
            "type": "scatter"
           }
          ],
          "scatter3d": [
           {
            "line": {
             "colorbar": {
              "outlinewidth": 0,
              "ticks": ""
             }
            },
            "marker": {
             "colorbar": {
              "outlinewidth": 0,
              "ticks": ""
             }
            },
            "type": "scatter3d"
           }
          ],
          "scattercarpet": [
           {
            "marker": {
             "colorbar": {
              "outlinewidth": 0,
              "ticks": ""
             }
            },
            "type": "scattercarpet"
           }
          ],
          "scattergeo": [
           {
            "marker": {
             "colorbar": {
              "outlinewidth": 0,
              "ticks": ""
             }
            },
            "type": "scattergeo"
           }
          ],
          "scattergl": [
           {
            "marker": {
             "colorbar": {
              "outlinewidth": 0,
              "ticks": ""
             }
            },
            "type": "scattergl"
           }
          ],
          "scattermapbox": [
           {
            "marker": {
             "colorbar": {
              "outlinewidth": 0,
              "ticks": ""
             }
            },
            "type": "scattermapbox"
           }
          ],
          "scatterpolar": [
           {
            "marker": {
             "colorbar": {
              "outlinewidth": 0,
              "ticks": ""
             }
            },
            "type": "scatterpolar"
           }
          ],
          "scatterpolargl": [
           {
            "marker": {
             "colorbar": {
              "outlinewidth": 0,
              "ticks": ""
             }
            },
            "type": "scatterpolargl"
           }
          ],
          "scatterternary": [
           {
            "marker": {
             "colorbar": {
              "outlinewidth": 0,
              "ticks": ""
             }
            },
            "type": "scatterternary"
           }
          ],
          "surface": [
           {
            "colorbar": {
             "outlinewidth": 0,
             "ticks": ""
            },
            "colorscale": [
             [
              0,
              "#0d0887"
             ],
             [
              0.1111111111111111,
              "#46039f"
             ],
             [
              0.2222222222222222,
              "#7201a8"
             ],
             [
              0.3333333333333333,
              "#9c179e"
             ],
             [
              0.4444444444444444,
              "#bd3786"
             ],
             [
              0.5555555555555556,
              "#d8576b"
             ],
             [
              0.6666666666666666,
              "#ed7953"
             ],
             [
              0.7777777777777778,
              "#fb9f3a"
             ],
             [
              0.8888888888888888,
              "#fdca26"
             ],
             [
              1,
              "#f0f921"
             ]
            ],
            "type": "surface"
           }
          ],
          "table": [
           {
            "cells": {
             "fill": {
              "color": "#EBF0F8"
             },
             "line": {
              "color": "white"
             }
            },
            "header": {
             "fill": {
              "color": "#C8D4E3"
             },
             "line": {
              "color": "white"
             }
            },
            "type": "table"
           }
          ]
         },
         "layout": {
          "annotationdefaults": {
           "arrowcolor": "#2a3f5f",
           "arrowhead": 0,
           "arrowwidth": 1
          },
          "autotypenumbers": "strict",
          "coloraxis": {
           "colorbar": {
            "outlinewidth": 0,
            "ticks": ""
           }
          },
          "colorscale": {
           "diverging": [
            [
             0,
             "#8e0152"
            ],
            [
             0.1,
             "#c51b7d"
            ],
            [
             0.2,
             "#de77ae"
            ],
            [
             0.3,
             "#f1b6da"
            ],
            [
             0.4,
             "#fde0ef"
            ],
            [
             0.5,
             "#f7f7f7"
            ],
            [
             0.6,
             "#e6f5d0"
            ],
            [
             0.7,
             "#b8e186"
            ],
            [
             0.8,
             "#7fbc41"
            ],
            [
             0.9,
             "#4d9221"
            ],
            [
             1,
             "#276419"
            ]
           ],
           "sequential": [
            [
             0,
             "#0d0887"
            ],
            [
             0.1111111111111111,
             "#46039f"
            ],
            [
             0.2222222222222222,
             "#7201a8"
            ],
            [
             0.3333333333333333,
             "#9c179e"
            ],
            [
             0.4444444444444444,
             "#bd3786"
            ],
            [
             0.5555555555555556,
             "#d8576b"
            ],
            [
             0.6666666666666666,
             "#ed7953"
            ],
            [
             0.7777777777777778,
             "#fb9f3a"
            ],
            [
             0.8888888888888888,
             "#fdca26"
            ],
            [
             1,
             "#f0f921"
            ]
           ],
           "sequentialminus": [
            [
             0,
             "#0d0887"
            ],
            [
             0.1111111111111111,
             "#46039f"
            ],
            [
             0.2222222222222222,
             "#7201a8"
            ],
            [
             0.3333333333333333,
             "#9c179e"
            ],
            [
             0.4444444444444444,
             "#bd3786"
            ],
            [
             0.5555555555555556,
             "#d8576b"
            ],
            [
             0.6666666666666666,
             "#ed7953"
            ],
            [
             0.7777777777777778,
             "#fb9f3a"
            ],
            [
             0.8888888888888888,
             "#fdca26"
            ],
            [
             1,
             "#f0f921"
            ]
           ]
          },
          "colorway": [
           "#636efa",
           "#EF553B",
           "#00cc96",
           "#ab63fa",
           "#FFA15A",
           "#19d3f3",
           "#FF6692",
           "#B6E880",
           "#FF97FF",
           "#FECB52"
          ],
          "font": {
           "color": "#2a3f5f"
          },
          "geo": {
           "bgcolor": "white",
           "lakecolor": "white",
           "landcolor": "#E5ECF6",
           "showlakes": true,
           "showland": true,
           "subunitcolor": "white"
          },
          "hoverlabel": {
           "align": "left"
          },
          "hovermode": "closest",
          "mapbox": {
           "style": "light"
          },
          "paper_bgcolor": "white",
          "plot_bgcolor": "#E5ECF6",
          "polar": {
           "angularaxis": {
            "gridcolor": "white",
            "linecolor": "white",
            "ticks": ""
           },
           "bgcolor": "#E5ECF6",
           "radialaxis": {
            "gridcolor": "white",
            "linecolor": "white",
            "ticks": ""
           }
          },
          "scene": {
           "xaxis": {
            "backgroundcolor": "#E5ECF6",
            "gridcolor": "white",
            "gridwidth": 2,
            "linecolor": "white",
            "showbackground": true,
            "ticks": "",
            "zerolinecolor": "white"
           },
           "yaxis": {
            "backgroundcolor": "#E5ECF6",
            "gridcolor": "white",
            "gridwidth": 2,
            "linecolor": "white",
            "showbackground": true,
            "ticks": "",
            "zerolinecolor": "white"
           },
           "zaxis": {
            "backgroundcolor": "#E5ECF6",
            "gridcolor": "white",
            "gridwidth": 2,
            "linecolor": "white",
            "showbackground": true,
            "ticks": "",
            "zerolinecolor": "white"
           }
          },
          "shapedefaults": {
           "line": {
            "color": "#2a3f5f"
           }
          },
          "ternary": {
           "aaxis": {
            "gridcolor": "white",
            "linecolor": "white",
            "ticks": ""
           },
           "baxis": {
            "gridcolor": "white",
            "linecolor": "white",
            "ticks": ""
           },
           "bgcolor": "#E5ECF6",
           "caxis": {
            "gridcolor": "white",
            "linecolor": "white",
            "ticks": ""
           }
          },
          "title": {
           "x": 0.05
          },
          "xaxis": {
           "automargin": true,
           "gridcolor": "white",
           "linecolor": "white",
           "ticks": "",
           "title": {
            "standoff": 15
           },
           "zerolinecolor": "white",
           "zerolinewidth": 2
          },
          "yaxis": {
           "automargin": true,
           "gridcolor": "white",
           "linecolor": "white",
           "ticks": "",
           "title": {
            "standoff": 15
           },
           "zerolinecolor": "white",
           "zerolinewidth": 2
          }
         }
        },
        "title": {
         "text": "Number of Jobs posted on 04-14 in USA"
        }
       }
      }
     },
     "metadata": {},
     "output_type": "display_data"
    }
   ],
   "source": [
    "fig = px.choropleth(dft, locationmode='USA-states', locations='location', scope='usa', color='count',\n",
    "                    color_continuous_scale='Viridis', hover_name='location', hover_data={'count': True, 'location': False},title='Number of Jobs posted on 04-14 in USA')\n",
    "\n",
    "fig.show()\n",
    "fig.write_html(\"job_distribution.html\")"
   ]
  },
  {
   "cell_type": "code",
   "execution_count": 189,
   "metadata": {},
   "outputs": [
    {
     "data": {
      "application/vnd.plotly.v1+json": {
       "config": {
        "plotlyServerURL": "https://plot.ly"
       },
       "data": [
        {
         "customdata": [
          [
           "Upwork"
          ],
          [
           "Apple"
          ],
          [
           "Walmart"
          ],
          [
           "Microsoft"
          ],
          [
           "Booz Allen Hamilton"
          ],
          [
           "Snap Inc."
          ],
          [
           "Oak Ridge National Laboratory"
          ],
          [
           "Supportiv"
          ],
          [
           "Jobot"
          ],
          [
           "Google"
          ]
         ],
         "domain": {
          "x": [
           0,
           1
          ],
          "y": [
           0,
           1
          ]
         },
         "hovertemplate": "Company Name=%{customdata[0]}<br>Number of Jobs=%{value}<extra></extra>",
         "labels": [
          "Upwork",
          "Apple",
          "Walmart",
          "Microsoft",
          "Booz Allen Hamilton",
          "Snap Inc.",
          "Oak Ridge National Laboratory",
          "Supportiv",
          "Jobot",
          "Google"
         ],
         "legendgroup": "",
         "marker": {
          "colors": [
           "#9b2226",
           "#ae2012",
           "#bb3e03",
           "#ca6702",
           "#ee9b00",
           "#e9d8a6",
           "#94d2bd",
           "#0a9396",
           "#005f73",
           "#001219"
          ]
         },
         "name": "",
         "showlegend": true,
         "type": "pie",
         "values": [
          31,
          10,
          9,
          5,
          5,
          4,
          4,
          4,
          4,
          4
         ]
        }
       ],
       "layout": {
        "legend": {
         "tracegroupgap": 0
        },
        "template": {
         "data": {
          "bar": [
           {
            "error_x": {
             "color": "#2a3f5f"
            },
            "error_y": {
             "color": "#2a3f5f"
            },
            "marker": {
             "line": {
              "color": "#E5ECF6",
              "width": 0.5
             },
             "pattern": {
              "fillmode": "overlay",
              "size": 10,
              "solidity": 0.2
             }
            },
            "type": "bar"
           }
          ],
          "barpolar": [
           {
            "marker": {
             "line": {
              "color": "#E5ECF6",
              "width": 0.5
             },
             "pattern": {
              "fillmode": "overlay",
              "size": 10,
              "solidity": 0.2
             }
            },
            "type": "barpolar"
           }
          ],
          "carpet": [
           {
            "aaxis": {
             "endlinecolor": "#2a3f5f",
             "gridcolor": "white",
             "linecolor": "white",
             "minorgridcolor": "white",
             "startlinecolor": "#2a3f5f"
            },
            "baxis": {
             "endlinecolor": "#2a3f5f",
             "gridcolor": "white",
             "linecolor": "white",
             "minorgridcolor": "white",
             "startlinecolor": "#2a3f5f"
            },
            "type": "carpet"
           }
          ],
          "choropleth": [
           {
            "colorbar": {
             "outlinewidth": 0,
             "ticks": ""
            },
            "type": "choropleth"
           }
          ],
          "contour": [
           {
            "colorbar": {
             "outlinewidth": 0,
             "ticks": ""
            },
            "colorscale": [
             [
              0,
              "#0d0887"
             ],
             [
              0.1111111111111111,
              "#46039f"
             ],
             [
              0.2222222222222222,
              "#7201a8"
             ],
             [
              0.3333333333333333,
              "#9c179e"
             ],
             [
              0.4444444444444444,
              "#bd3786"
             ],
             [
              0.5555555555555556,
              "#d8576b"
             ],
             [
              0.6666666666666666,
              "#ed7953"
             ],
             [
              0.7777777777777778,
              "#fb9f3a"
             ],
             [
              0.8888888888888888,
              "#fdca26"
             ],
             [
              1,
              "#f0f921"
             ]
            ],
            "type": "contour"
           }
          ],
          "contourcarpet": [
           {
            "colorbar": {
             "outlinewidth": 0,
             "ticks": ""
            },
            "type": "contourcarpet"
           }
          ],
          "heatmap": [
           {
            "colorbar": {
             "outlinewidth": 0,
             "ticks": ""
            },
            "colorscale": [
             [
              0,
              "#0d0887"
             ],
             [
              0.1111111111111111,
              "#46039f"
             ],
             [
              0.2222222222222222,
              "#7201a8"
             ],
             [
              0.3333333333333333,
              "#9c179e"
             ],
             [
              0.4444444444444444,
              "#bd3786"
             ],
             [
              0.5555555555555556,
              "#d8576b"
             ],
             [
              0.6666666666666666,
              "#ed7953"
             ],
             [
              0.7777777777777778,
              "#fb9f3a"
             ],
             [
              0.8888888888888888,
              "#fdca26"
             ],
             [
              1,
              "#f0f921"
             ]
            ],
            "type": "heatmap"
           }
          ],
          "heatmapgl": [
           {
            "colorbar": {
             "outlinewidth": 0,
             "ticks": ""
            },
            "colorscale": [
             [
              0,
              "#0d0887"
             ],
             [
              0.1111111111111111,
              "#46039f"
             ],
             [
              0.2222222222222222,
              "#7201a8"
             ],
             [
              0.3333333333333333,
              "#9c179e"
             ],
             [
              0.4444444444444444,
              "#bd3786"
             ],
             [
              0.5555555555555556,
              "#d8576b"
             ],
             [
              0.6666666666666666,
              "#ed7953"
             ],
             [
              0.7777777777777778,
              "#fb9f3a"
             ],
             [
              0.8888888888888888,
              "#fdca26"
             ],
             [
              1,
              "#f0f921"
             ]
            ],
            "type": "heatmapgl"
           }
          ],
          "histogram": [
           {
            "marker": {
             "pattern": {
              "fillmode": "overlay",
              "size": 10,
              "solidity": 0.2
             }
            },
            "type": "histogram"
           }
          ],
          "histogram2d": [
           {
            "colorbar": {
             "outlinewidth": 0,
             "ticks": ""
            },
            "colorscale": [
             [
              0,
              "#0d0887"
             ],
             [
              0.1111111111111111,
              "#46039f"
             ],
             [
              0.2222222222222222,
              "#7201a8"
             ],
             [
              0.3333333333333333,
              "#9c179e"
             ],
             [
              0.4444444444444444,
              "#bd3786"
             ],
             [
              0.5555555555555556,
              "#d8576b"
             ],
             [
              0.6666666666666666,
              "#ed7953"
             ],
             [
              0.7777777777777778,
              "#fb9f3a"
             ],
             [
              0.8888888888888888,
              "#fdca26"
             ],
             [
              1,
              "#f0f921"
             ]
            ],
            "type": "histogram2d"
           }
          ],
          "histogram2dcontour": [
           {
            "colorbar": {
             "outlinewidth": 0,
             "ticks": ""
            },
            "colorscale": [
             [
              0,
              "#0d0887"
             ],
             [
              0.1111111111111111,
              "#46039f"
             ],
             [
              0.2222222222222222,
              "#7201a8"
             ],
             [
              0.3333333333333333,
              "#9c179e"
             ],
             [
              0.4444444444444444,
              "#bd3786"
             ],
             [
              0.5555555555555556,
              "#d8576b"
             ],
             [
              0.6666666666666666,
              "#ed7953"
             ],
             [
              0.7777777777777778,
              "#fb9f3a"
             ],
             [
              0.8888888888888888,
              "#fdca26"
             ],
             [
              1,
              "#f0f921"
             ]
            ],
            "type": "histogram2dcontour"
           }
          ],
          "mesh3d": [
           {
            "colorbar": {
             "outlinewidth": 0,
             "ticks": ""
            },
            "type": "mesh3d"
           }
          ],
          "parcoords": [
           {
            "line": {
             "colorbar": {
              "outlinewidth": 0,
              "ticks": ""
             }
            },
            "type": "parcoords"
           }
          ],
          "pie": [
           {
            "automargin": true,
            "type": "pie"
           }
          ],
          "scatter": [
           {
            "fillpattern": {
             "fillmode": "overlay",
             "size": 10,
             "solidity": 0.2
            },
            "type": "scatter"
           }
          ],
          "scatter3d": [
           {
            "line": {
             "colorbar": {
              "outlinewidth": 0,
              "ticks": ""
             }
            },
            "marker": {
             "colorbar": {
              "outlinewidth": 0,
              "ticks": ""
             }
            },
            "type": "scatter3d"
           }
          ],
          "scattercarpet": [
           {
            "marker": {
             "colorbar": {
              "outlinewidth": 0,
              "ticks": ""
             }
            },
            "type": "scattercarpet"
           }
          ],
          "scattergeo": [
           {
            "marker": {
             "colorbar": {
              "outlinewidth": 0,
              "ticks": ""
             }
            },
            "type": "scattergeo"
           }
          ],
          "scattergl": [
           {
            "marker": {
             "colorbar": {
              "outlinewidth": 0,
              "ticks": ""
             }
            },
            "type": "scattergl"
           }
          ],
          "scattermapbox": [
           {
            "marker": {
             "colorbar": {
              "outlinewidth": 0,
              "ticks": ""
             }
            },
            "type": "scattermapbox"
           }
          ],
          "scatterpolar": [
           {
            "marker": {
             "colorbar": {
              "outlinewidth": 0,
              "ticks": ""
             }
            },
            "type": "scatterpolar"
           }
          ],
          "scatterpolargl": [
           {
            "marker": {
             "colorbar": {
              "outlinewidth": 0,
              "ticks": ""
             }
            },
            "type": "scatterpolargl"
           }
          ],
          "scatterternary": [
           {
            "marker": {
             "colorbar": {
              "outlinewidth": 0,
              "ticks": ""
             }
            },
            "type": "scatterternary"
           }
          ],
          "surface": [
           {
            "colorbar": {
             "outlinewidth": 0,
             "ticks": ""
            },
            "colorscale": [
             [
              0,
              "#0d0887"
             ],
             [
              0.1111111111111111,
              "#46039f"
             ],
             [
              0.2222222222222222,
              "#7201a8"
             ],
             [
              0.3333333333333333,
              "#9c179e"
             ],
             [
              0.4444444444444444,
              "#bd3786"
             ],
             [
              0.5555555555555556,
              "#d8576b"
             ],
             [
              0.6666666666666666,
              "#ed7953"
             ],
             [
              0.7777777777777778,
              "#fb9f3a"
             ],
             [
              0.8888888888888888,
              "#fdca26"
             ],
             [
              1,
              "#f0f921"
             ]
            ],
            "type": "surface"
           }
          ],
          "table": [
           {
            "cells": {
             "fill": {
              "color": "#EBF0F8"
             },
             "line": {
              "color": "white"
             }
            },
            "header": {
             "fill": {
              "color": "#C8D4E3"
             },
             "line": {
              "color": "white"
             }
            },
            "type": "table"
           }
          ]
         },
         "layout": {
          "annotationdefaults": {
           "arrowcolor": "#2a3f5f",
           "arrowhead": 0,
           "arrowwidth": 1
          },
          "autotypenumbers": "strict",
          "coloraxis": {
           "colorbar": {
            "outlinewidth": 0,
            "ticks": ""
           }
          },
          "colorscale": {
           "diverging": [
            [
             0,
             "#8e0152"
            ],
            [
             0.1,
             "#c51b7d"
            ],
            [
             0.2,
             "#de77ae"
            ],
            [
             0.3,
             "#f1b6da"
            ],
            [
             0.4,
             "#fde0ef"
            ],
            [
             0.5,
             "#f7f7f7"
            ],
            [
             0.6,
             "#e6f5d0"
            ],
            [
             0.7,
             "#b8e186"
            ],
            [
             0.8,
             "#7fbc41"
            ],
            [
             0.9,
             "#4d9221"
            ],
            [
             1,
             "#276419"
            ]
           ],
           "sequential": [
            [
             0,
             "#0d0887"
            ],
            [
             0.1111111111111111,
             "#46039f"
            ],
            [
             0.2222222222222222,
             "#7201a8"
            ],
            [
             0.3333333333333333,
             "#9c179e"
            ],
            [
             0.4444444444444444,
             "#bd3786"
            ],
            [
             0.5555555555555556,
             "#d8576b"
            ],
            [
             0.6666666666666666,
             "#ed7953"
            ],
            [
             0.7777777777777778,
             "#fb9f3a"
            ],
            [
             0.8888888888888888,
             "#fdca26"
            ],
            [
             1,
             "#f0f921"
            ]
           ],
           "sequentialminus": [
            [
             0,
             "#0d0887"
            ],
            [
             0.1111111111111111,
             "#46039f"
            ],
            [
             0.2222222222222222,
             "#7201a8"
            ],
            [
             0.3333333333333333,
             "#9c179e"
            ],
            [
             0.4444444444444444,
             "#bd3786"
            ],
            [
             0.5555555555555556,
             "#d8576b"
            ],
            [
             0.6666666666666666,
             "#ed7953"
            ],
            [
             0.7777777777777778,
             "#fb9f3a"
            ],
            [
             0.8888888888888888,
             "#fdca26"
            ],
            [
             1,
             "#f0f921"
            ]
           ]
          },
          "colorway": [
           "#636efa",
           "#EF553B",
           "#00cc96",
           "#ab63fa",
           "#FFA15A",
           "#19d3f3",
           "#FF6692",
           "#B6E880",
           "#FF97FF",
           "#FECB52"
          ],
          "font": {
           "color": "#2a3f5f"
          },
          "geo": {
           "bgcolor": "white",
           "lakecolor": "white",
           "landcolor": "#E5ECF6",
           "showlakes": true,
           "showland": true,
           "subunitcolor": "white"
          },
          "hoverlabel": {
           "align": "left"
          },
          "hovermode": "closest",
          "mapbox": {
           "style": "light"
          },
          "paper_bgcolor": "white",
          "plot_bgcolor": "#E5ECF6",
          "polar": {
           "angularaxis": {
            "gridcolor": "white",
            "linecolor": "white",
            "ticks": ""
           },
           "bgcolor": "#E5ECF6",
           "radialaxis": {
            "gridcolor": "white",
            "linecolor": "white",
            "ticks": ""
           }
          },
          "scene": {
           "xaxis": {
            "backgroundcolor": "#E5ECF6",
            "gridcolor": "white",
            "gridwidth": 2,
            "linecolor": "white",
            "showbackground": true,
            "ticks": "",
            "zerolinecolor": "white"
           },
           "yaxis": {
            "backgroundcolor": "#E5ECF6",
            "gridcolor": "white",
            "gridwidth": 2,
            "linecolor": "white",
            "showbackground": true,
            "ticks": "",
            "zerolinecolor": "white"
           },
           "zaxis": {
            "backgroundcolor": "#E5ECF6",
            "gridcolor": "white",
            "gridwidth": 2,
            "linecolor": "white",
            "showbackground": true,
            "ticks": "",
            "zerolinecolor": "white"
           }
          },
          "shapedefaults": {
           "line": {
            "color": "#2a3f5f"
           }
          },
          "ternary": {
           "aaxis": {
            "gridcolor": "white",
            "linecolor": "white",
            "ticks": ""
           },
           "baxis": {
            "gridcolor": "white",
            "linecolor": "white",
            "ticks": ""
           },
           "bgcolor": "#E5ECF6",
           "caxis": {
            "gridcolor": "white",
            "linecolor": "white",
            "ticks": ""
           }
          },
          "title": {
           "x": 0.05
          },
          "xaxis": {
           "automargin": true,
           "gridcolor": "white",
           "linecolor": "white",
           "ticks": "",
           "title": {
            "standoff": 15
           },
           "zerolinecolor": "white",
           "zerolinewidth": 2
          },
          "yaxis": {
           "automargin": true,
           "gridcolor": "white",
           "linecolor": "white",
           "ticks": "",
           "title": {
            "standoff": 15
           },
           "zerolinecolor": "white",
           "zerolinewidth": 2
          }
         }
        },
        "title": {
         "text": "Top 10 Company with most data related job released on 04/14 in USA"
        }
       }
      }
     },
     "metadata": {},
     "output_type": "display_data"
    }
   ],
   "source": [
    "fruit_counts = df_USA['company_name'].value_counts()\n",
    "fruit_counts = fruit_counts.head(10)\n",
    "# Create a new DataFrame with the fruit counts\n",
    "pie_data = pd.DataFrame({'Company Name': fruit_counts.index, 'Count': fruit_counts.values})\n",
    "\n",
    "# Create a pie chart\n",
    "fig = px.pie(pie_data, values='Count', names='Company Name', title='Top 10 Company with most data related job released on 04/14 in USA', hover_data=['Company Name'], labels={'Company Name':'Company Name',\"Count\":\"Number of Jobs\"})\n",
    "\n",
    "fig.update_traces(marker=dict(colors=['#9b2226', '#ae2012', '#bb3e03',\"#ca6702\",\"#ee9b00\",\"#e9d8a6\",\"#94d2bd\",\"#0a9396\",\"#005f73\",\"#001219\"]))\n",
    "# Show the plot\n",
    "fig.show()\n",
    "fig.write_html(\"website/company_distribution.html\")"
   ]
  },
  {
   "cell_type": "code",
   "execution_count": 140,
   "metadata": {},
   "outputs": [
    {
     "data": {
      "image/png": "[encoded data removed]",
      "text/plain": [
       "<Figure size 576x576 with 1 Axes>"
      ]
     },
     "metadata": {
      "needs_background": "light"
     },
     "output_type": "display_data"
    }
   ],
   "source": [
    "from wordcloud import WordCloud, STOPWORDS\n",
    "import matplotlib.pyplot as plt\n",
    "\n",
    "comment_words = ''\n",
    "stopwords = set(STOPWORDS)\n",
    "\n",
    "for val in df_USA[\"description\"][(df_USA[\"type\"] == \"data-scientist\") | (df_USA[\"type\"] == \"data-analyst\")]:\n",
    "     \n",
    "    # typecaste each val to string\n",
    "    val = str(val)\n",
    " \n",
    "    # split the value\n",
    "    tokens = val.split()\n",
    "     \n",
    "    # Converts each token into lowercase\n",
    "    for i in range(len(tokens)):\n",
    "        tokens[i] = tokens[i].lower()\n",
    "     \n",
    "    comment_words += \" \".join(tokens)+\" \"\n",
    " \n",
    "wordcloud = WordCloud(width = 800, height = 800,\n",
    "                background_color ='white',\n",
    "                stopwords = stopwords,\n",
    "                min_font_size = 10).generate(comment_words)\n",
    "\n",
    "plt.figure(figsize = (8, 8), facecolor = None)\n",
    "plt.imshow(wordcloud)\n",
    "plt.axis(\"off\")\n",
    "plt.tight_layout(pad = 0)\n",
    " \n",
    "plt.show()\n",
    "plt.savefig(\"website/wordcloud.png\")"
   ]
  },
  {
   "cell_type": "code",
   "execution_count": 190,
   "metadata": {},
   "outputs": [
    {
     "data": {
      "application/vnd.plotly.v1+json": {
       "config": {
        "plotlyServerURL": "https://plot.ly"
       },
       "data": [
        {
         "marker": {
          "color": [
           "#9b2226",
           "#ae2012",
           "#bb3e03",
           "#ca6702",
           "#ee9b00",
           "#e9d8a6",
           "#94d2bd",
           "#0a9396",
           "#005f73",
           "#001219"
          ],
          "line": {
           "color": "rgb(8,48,107)",
           "width": 1.5
          },
          "opacity": 0.6
         },
         "type": "bar",
         "visible": true,
         "x": [
          "Google",
          "Raytheon Technologies",
          "ARSIEM",
          "Limitless Talent Solutions",
          "Erias Ventures, LLC",
          "Arsiem Corporation",
          "Amazon Web Services, Inc.",
          "Elevance Health",
          "CACI",
          "Amazon.com Services LLC"
         ],
         "y": [
          3,
          3,
          2,
          2,
          2,
          2,
          2,
          2,
          2,
          1
         ]
        },
        {
         "marker": {
          "color": [
           "#9b2226",
           "#ae2012",
           "#bb3e03",
           "#ca6702",
           "#ee9b00",
           "#e9d8a6",
           "#94d2bd",
           "#0a9396",
           "#005f73",
           "#001219"
          ],
          "line": {
           "color": "rgb(8,48,107)",
           "width": 1.5
          },
          "opacity": 0.6
         },
         "type": "bar",
         "visible": false,
         "x": [
          "Upwork",
          "21.co",
          "Kraken Digital Asset Exchange",
          "Amazon Dev Center U.S., Inc.",
          "Bitquery",
          "Deloitte",
          "Crypto.com",
          "Blockchain Institute of Technology",
          "Jobot",
          "Chainlink Labs"
         ],
         "y": [
          3,
          2,
          2,
          2,
          2,
          2,
          2,
          1,
          1,
          1
         ]
        },
        {
         "marker": {
          "color": [
           "#9b2226",
           "#ae2012",
           "#bb3e03",
           "#ca6702",
           "#ee9b00",
           "#e9d8a6",
           "#94d2bd",
           "#0a9396",
           "#005f73",
           "#001219"
          ],
          "line": {
           "color": "rgb(8,48,107)",
           "width": 1.5
          },
          "opacity": 0.6
         },
         "type": "bar",
         "visible": false,
         "x": [
          "Walmart",
          "Corporate",
          "Upwork",
          "Airswift",
          "Robert Half",
          "Nebraska State Government",
          "Cox Enterprises",
          "Cenetene Corporation",
          "Aon Careers",
          "Amerit Fleet Solutions"
         ],
         "y": [
          4,
          3,
          2,
          2,
          2,
          2,
          2,
          1,
          1,
          1
         ]
        },
        {
         "marker": {
          "color": [
           "#9b2226",
           "#ae2012",
           "#bb3e03",
           "#ca6702",
           "#ee9b00",
           "#e9d8a6",
           "#94d2bd",
           "#0a9396",
           "#005f73",
           "#001219"
          ],
          "line": {
           "color": "rgb(8,48,107)",
           "width": 1.5
          },
          "opacity": 0.6
         },
         "type": "bar",
         "visible": false,
         "x": [
          "Walmart",
          "Reddit",
          "Cottonwood Financial",
          "CHRISTUS Health",
          "McKinsey & Company",
          "PNC",
          "Robert Half",
          "Love's Travel Stops",
          "Dave Inc.",
          "Health Care Service Corporation"
         ],
         "y": [
          3,
          2,
          2,
          2,
          1,
          1,
          1,
          1,
          1,
          1
         ]
        },
        {
         "marker": {
          "color": [
           "#9b2226",
           "#ae2012",
           "#bb3e03",
           "#ca6702",
           "#ee9b00",
           "#e9d8a6",
           "#94d2bd",
           "#0a9396",
           "#005f73",
           "#001219"
          ],
          "line": {
           "color": "rgb(8,48,107)",
           "width": 1.5
          },
          "opacity": 0.6
         },
         "type": "bar",
         "visible": false,
         "x": [
          "Armis Industries",
          "Imagry",
          "WayUp",
          "AssemblyAI",
          "EnsoData",
          "Upwork",
          "The Phoenix Group",
          "2100 NVIDIA USA",
          "Adobe",
          "Lockheed Martin"
         ],
         "y": [
          2,
          2,
          2,
          2,
          2,
          2,
          2,
          1,
          1,
          1
         ]
        },
        {
         "marker": {
          "color": [
           "#9b2226",
           "#ae2012",
           "#bb3e03",
           "#ca6702",
           "#ee9b00",
           "#e9d8a6",
           "#94d2bd",
           "#0a9396",
           "#005f73",
           "#001219"
          ],
          "line": {
           "color": "rgb(8,48,107)",
           "width": 1.5
          },
          "opacity": 0.6
         },
         "type": "bar",
         "visible": false,
         "x": [
          "Upwork",
          "Johns Hopkins Applied Physics Laboratory",
          "Iterative Health",
          "Walmart",
          "Expedia Group",
          "Genentech",
          "General Electric",
          "Encipher Technology",
          "Covariant",
          "JR Software Solutions"
         ],
         "y": [
          2,
          2,
          2,
          2,
          2,
          2,
          1,
          1,
          1,
          1
         ]
        },
        {
         "marker": {
          "color": [
           "#9b2226",
           "#ae2012",
           "#bb3e03",
           "#ca6702",
           "#ee9b00",
           "#e9d8a6",
           "#94d2bd",
           "#0a9396",
           "#005f73",
           "#001219"
          ],
          "line": {
           "color": "rgb(8,48,107)",
           "width": 1.5
          },
          "opacity": 0.6
         },
         "type": "bar",
         "visible": false,
         "x": [
          "Supportiv",
          "Snap Inc.",
          "SRI International",
          "MIT Lincoln Laboratory",
          "Leidos",
          "Kitware",
          "Authenticx",
          "Apple",
          "Johns Hopkins University",
          "Westbourne Quantitative Trading, Technology & Research"
         ],
         "y": [
          4,
          3,
          3,
          2,
          2,
          2,
          2,
          2,
          2,
          1
         ]
        },
        {
         "marker": {
          "color": [
           "#9b2226",
           "#ae2012",
           "#bb3e03",
           "#ca6702",
           "#ee9b00",
           "#e9d8a6",
           "#94d2bd",
           "#0a9396",
           "#005f73",
           "#001219"
          ],
          "line": {
           "color": "rgb(8,48,107)",
           "width": 1.5
          },
          "opacity": 0.6
         },
         "type": "bar",
         "visible": false,
         "x": [
          "Upwork",
          "Apple",
          "Jobot",
          "Neural Magic",
          "Tesla",
          "Grand Canyon University",
          "Robinhood",
          "Certified Employment Group",
          "Owl Autonomous Imaging",
          "Harsco Corporation"
         ],
         "y": [
          18,
          3,
          3,
          2,
          2,
          1,
          1,
          1,
          1,
          1
         ]
        },
        {
         "marker": {
          "color": [
           "#9b2226",
           "#ae2012",
           "#bb3e03",
           "#ca6702",
           "#ee9b00",
           "#e9d8a6",
           "#94d2bd",
           "#0a9396",
           "#005f73",
           "#001219"
          ],
          "line": {
           "color": "rgb(8,48,107)",
           "width": 1.5
          },
          "opacity": 0.6
         },
         "type": "bar",
         "visible": false,
         "x": [
          "Microsoft",
          "Apple",
          "Upwork",
          "Walmart Global Tech",
          "Oak Ridge National Laboratory",
          "MultiPlan, Inc",
          "Shaped",
          "Armorblox",
          "Anyscale",
          "JPMorgan Chase"
         ],
         "y": [
          3,
          3,
          3,
          2,
          2,
          1,
          1,
          1,
          1,
          1
         ]
        }
       ],
       "layout": {
        "template": {
         "data": {
          "bar": [
           {
            "error_x": {
             "color": "#2a3f5f"
            },
            "error_y": {
             "color": "#2a3f5f"
            },
            "marker": {
             "line": {
              "color": "#E5ECF6",
              "width": 0.5
             },
             "pattern": {
              "fillmode": "overlay",
              "size": 10,
              "solidity": 0.2
             }
            },
            "type": "bar"
           }
          ],
          "barpolar": [
           {
            "marker": {
             "line": {
              "color": "#E5ECF6",
              "width": 0.5
             },
             "pattern": {
              "fillmode": "overlay",
              "size": 10,
              "solidity": 0.2
             }
            },
            "type": "barpolar"
           }
          ],
          "carpet": [
           {
            "aaxis": {
             "endlinecolor": "#2a3f5f",
             "gridcolor": "white",
             "linecolor": "white",
             "minorgridcolor": "white",
             "startlinecolor": "#2a3f5f"
            },
            "baxis": {
             "endlinecolor": "#2a3f5f",
             "gridcolor": "white",
             "linecolor": "white",
             "minorgridcolor": "white",
             "startlinecolor": "#2a3f5f"
            },
            "type": "carpet"
           }
          ],
          "choropleth": [
           {
            "colorbar": {
             "outlinewidth": 0,
             "ticks": ""
            },
            "type": "choropleth"
           }
          ],
          "contour": [
           {
            "colorbar": {
             "outlinewidth": 0,
             "ticks": ""
            },
            "colorscale": [
             [
              0,
              "#0d0887"
             ],
             [
              0.1111111111111111,
              "#46039f"
             ],
             [
              0.2222222222222222,
              "#7201a8"
             ],
             [
              0.3333333333333333,
              "#9c179e"
             ],
             [
              0.4444444444444444,
              "#bd3786"
             ],
             [
              0.5555555555555556,
              "#d8576b"
             ],
             [
              0.6666666666666666,
              "#ed7953"
             ],
             [
              0.7777777777777778,
              "#fb9f3a"
             ],
             [
              0.8888888888888888,
              "#fdca26"
             ],
             [
              1,
              "#f0f921"
             ]
            ],
            "type": "contour"
           }
          ],
          "contourcarpet": [
           {
            "colorbar": {
             "outlinewidth": 0,
             "ticks": ""
            },
            "type": "contourcarpet"
           }
          ],
          "heatmap": [
           {
            "colorbar": {
             "outlinewidth": 0,
             "ticks": ""
            },
            "colorscale": [
             [
              0,
              "#0d0887"
             ],
             [
              0.1111111111111111,
              "#46039f"
             ],
             [
              0.2222222222222222,
              "#7201a8"
             ],
             [
              0.3333333333333333,
              "#9c179e"
             ],
             [
              0.4444444444444444,
              "#bd3786"
             ],
             [
              0.5555555555555556,
              "#d8576b"
             ],
             [
              0.6666666666666666,
              "#ed7953"
             ],
             [
              0.7777777777777778,
              "#fb9f3a"
             ],
             [
              0.8888888888888888,
              "#fdca26"
             ],
             [
              1,
              "#f0f921"
             ]
            ],
            "type": "heatmap"
           }
          ],
          "heatmapgl": [
           {
            "colorbar": {
             "outlinewidth": 0,
             "ticks": ""
            },
            "colorscale": [
             [
              0,
              "#0d0887"
             ],
             [
              0.1111111111111111,
              "#46039f"
             ],
             [
              0.2222222222222222,
              "#7201a8"
             ],
             [
              0.3333333333333333,
              "#9c179e"
             ],
             [
              0.4444444444444444,
              "#bd3786"
             ],
             [
              0.5555555555555556,
              "#d8576b"
             ],
             [
              0.6666666666666666,
              "#ed7953"
             ],
             [
              0.7777777777777778,
              "#fb9f3a"
             ],
             [
              0.8888888888888888,
              "#fdca26"
             ],
             [
              1,
              "#f0f921"
             ]
            ],
            "type": "heatmapgl"
           }
          ],
          "histogram": [
           {
            "marker": {
             "pattern": {
              "fillmode": "overlay",
              "size": 10,
              "solidity": 0.2
             }
            },
            "type": "histogram"
           }
          ],
          "histogram2d": [
           {
            "colorbar": {
             "outlinewidth": 0,
             "ticks": ""
            },
            "colorscale": [
             [
              0,
              "#0d0887"
             ],
             [
              0.1111111111111111,
              "#46039f"
             ],
             [
              0.2222222222222222,
              "#7201a8"
             ],
             [
              0.3333333333333333,
              "#9c179e"
             ],
             [
              0.4444444444444444,
              "#bd3786"
             ],
             [
              0.5555555555555556,
              "#d8576b"
             ],
             [
              0.6666666666666666,
              "#ed7953"
             ],
             [
              0.7777777777777778,
              "#fb9f3a"
             ],
             [
              0.8888888888888888,
              "#fdca26"
             ],
             [
              1,
              "#f0f921"
             ]
            ],
            "type": "histogram2d"
           }
          ],
          "histogram2dcontour": [
           {
            "colorbar": {
             "outlinewidth": 0,
             "ticks": ""
            },
            "colorscale": [
             [
              0,
              "#0d0887"
             ],
             [
              0.1111111111111111,
              "#46039f"
             ],
             [
              0.2222222222222222,
              "#7201a8"
             ],
             [
              0.3333333333333333,
              "#9c179e"
             ],
             [
              0.4444444444444444,
              "#bd3786"
             ],
             [
              0.5555555555555556,
              "#d8576b"
             ],
             [
              0.6666666666666666,
              "#ed7953"
             ],
             [
              0.7777777777777778,
              "#fb9f3a"
             ],
             [
              0.8888888888888888,
              "#fdca26"
             ],
             [
              1,
              "#f0f921"
             ]
            ],
            "type": "histogram2dcontour"
           }
          ],
          "mesh3d": [
           {
            "colorbar": {
             "outlinewidth": 0,
             "ticks": ""
            },
            "type": "mesh3d"
           }
          ],
          "parcoords": [
           {
            "line": {
             "colorbar": {
              "outlinewidth": 0,
              "ticks": ""
             }
            },
            "type": "parcoords"
           }
          ],
          "pie": [
           {
            "automargin": true,
            "type": "pie"
           }
          ],
          "scatter": [
           {
            "fillpattern": {
             "fillmode": "overlay",
             "size": 10,
             "solidity": 0.2
            },
            "type": "scatter"
           }
          ],
          "scatter3d": [
           {
            "line": {
             "colorbar": {
              "outlinewidth": 0,
              "ticks": ""
             }
            },
            "marker": {
             "colorbar": {
              "outlinewidth": 0,
              "ticks": ""
             }
            },
            "type": "scatter3d"
           }
          ],
          "scattercarpet": [
           {
            "marker": {
             "colorbar": {
              "outlinewidth": 0,
              "ticks": ""
             }
            },
            "type": "scattercarpet"
           }
          ],
          "scattergeo": [
           {
            "marker": {
             "colorbar": {
              "outlinewidth": 0,
              "ticks": ""
             }
            },
            "type": "scattergeo"
           }
          ],
          "scattergl": [
           {
            "marker": {
             "colorbar": {
              "outlinewidth": 0,
              "ticks": ""
             }
            },
            "type": "scattergl"
           }
          ],
          "scattermapbox": [
           {
            "marker": {
             "colorbar": {
              "outlinewidth": 0,
              "ticks": ""
             }
            },
            "type": "scattermapbox"
           }
          ],
          "scatterpolar": [
           {
            "marker": {
             "colorbar": {
              "outlinewidth": 0,
              "ticks": ""
             }
            },
            "type": "scatterpolar"
           }
          ],
          "scatterpolargl": [
           {
            "marker": {
             "colorbar": {
              "outlinewidth": 0,
              "ticks": ""
             }
            },
            "type": "scatterpolargl"
           }
          ],
          "scatterternary": [
           {
            "marker": {
             "colorbar": {
              "outlinewidth": 0,
              "ticks": ""
             }
            },
            "type": "scatterternary"
           }
          ],
          "surface": [
           {
            "colorbar": {
             "outlinewidth": 0,
             "ticks": ""
            },
            "colorscale": [
             [
              0,
              "#0d0887"
             ],
             [
              0.1111111111111111,
              "#46039f"
             ],
             [
              0.2222222222222222,
              "#7201a8"
             ],
             [
              0.3333333333333333,
              "#9c179e"
             ],
             [
              0.4444444444444444,
              "#bd3786"
             ],
             [
              0.5555555555555556,
              "#d8576b"
             ],
             [
              0.6666666666666666,
              "#ed7953"
             ],
             [
              0.7777777777777778,
              "#fb9f3a"
             ],
             [
              0.8888888888888888,
              "#fdca26"
             ],
             [
              1,
              "#f0f921"
             ]
            ],
            "type": "surface"
           }
          ],
          "table": [
           {
            "cells": {
             "fill": {
              "color": "#EBF0F8"
             },
             "line": {
              "color": "white"
             }
            },
            "header": {
             "fill": {
              "color": "#C8D4E3"
             },
             "line": {
              "color": "white"
             }
            },
            "type": "table"
           }
          ]
         },
         "layout": {
          "annotationdefaults": {
           "arrowcolor": "#2a3f5f",
           "arrowhead": 0,
           "arrowwidth": 1
          },
          "autotypenumbers": "strict",
          "coloraxis": {
           "colorbar": {
            "outlinewidth": 0,
            "ticks": ""
           }
          },
          "colorscale": {
           "diverging": [
            [
             0,
             "#8e0152"
            ],
            [
             0.1,
             "#c51b7d"
            ],
            [
             0.2,
             "#de77ae"
            ],
            [
             0.3,
             "#f1b6da"
            ],
            [
             0.4,
             "#fde0ef"
            ],
            [
             0.5,
             "#f7f7f7"
            ],
            [
             0.6,
             "#e6f5d0"
            ],
            [
             0.7,
             "#b8e186"
            ],
            [
             0.8,
             "#7fbc41"
            ],
            [
             0.9,
             "#4d9221"
            ],
            [
             1,
             "#276419"
            ]
           ],
           "sequential": [
            [
             0,
             "#0d0887"
            ],
            [
             0.1111111111111111,
             "#46039f"
            ],
            [
             0.2222222222222222,
             "#7201a8"
            ],
            [
             0.3333333333333333,
             "#9c179e"
            ],
            [
             0.4444444444444444,
             "#bd3786"
            ],
            [
             0.5555555555555556,
             "#d8576b"
            ],
            [
             0.6666666666666666,
             "#ed7953"
            ],
            [
             0.7777777777777778,
             "#fb9f3a"
            ],
            [
             0.8888888888888888,
             "#fdca26"
            ],
            [
             1,
             "#f0f921"
            ]
           ],
           "sequentialminus": [
            [
             0,
             "#0d0887"
            ],
            [
             0.1111111111111111,
             "#46039f"
            ],
            [
             0.2222222222222222,
             "#7201a8"
            ],
            [
             0.3333333333333333,
             "#9c179e"
            ],
            [
             0.4444444444444444,
             "#bd3786"
            ],
            [
             0.5555555555555556,
             "#d8576b"
            ],
            [
             0.6666666666666666,
             "#ed7953"
            ],
            [
             0.7777777777777778,
             "#fb9f3a"
            ],
            [
             0.8888888888888888,
             "#fdca26"
            ],
            [
             1,
             "#f0f921"
            ]
           ]
          },
          "colorway": [
           "#636efa",
           "#EF553B",
           "#00cc96",
           "#ab63fa",
           "#FFA15A",
           "#19d3f3",
           "#FF6692",
           "#B6E880",
           "#FF97FF",
           "#FECB52"
          ],
          "font": {
           "color": "#2a3f5f"
          },
          "geo": {
           "bgcolor": "white",
           "lakecolor": "white",
           "landcolor": "#E5ECF6",
           "showlakes": true,
           "showland": true,
           "subunitcolor": "white"
          },
          "hoverlabel": {
           "align": "left"
          },
          "hovermode": "closest",
          "mapbox": {
           "style": "light"
          },
          "paper_bgcolor": "white",
          "plot_bgcolor": "#E5ECF6",
          "polar": {
           "angularaxis": {
            "gridcolor": "white",
            "linecolor": "white",
            "ticks": ""
           },
           "bgcolor": "#E5ECF6",
           "radialaxis": {
            "gridcolor": "white",
            "linecolor": "white",
            "ticks": ""
           }
          },
          "scene": {
           "xaxis": {
            "backgroundcolor": "#E5ECF6",
            "gridcolor": "white",
            "gridwidth": 2,
            "linecolor": "white",
            "showbackground": true,
            "ticks": "",
            "zerolinecolor": "white"
           },
           "yaxis": {
            "backgroundcolor": "#E5ECF6",
            "gridcolor": "white",
            "gridwidth": 2,
            "linecolor": "white",
            "showbackground": true,
            "ticks": "",
            "zerolinecolor": "white"
           },
           "zaxis": {
            "backgroundcolor": "#E5ECF6",
            "gridcolor": "white",
            "gridwidth": 2,
            "linecolor": "white",
            "showbackground": true,
            "ticks": "",
            "zerolinecolor": "white"
           }
          },
          "shapedefaults": {
           "line": {
            "color": "#2a3f5f"
           }
          },
          "ternary": {
           "aaxis": {
            "gridcolor": "white",
            "linecolor": "white",
            "ticks": ""
           },
           "baxis": {
            "gridcolor": "white",
            "linecolor": "white",
            "ticks": ""
           },
           "bgcolor": "#E5ECF6",
           "caxis": {
            "gridcolor": "white",
            "linecolor": "white",
            "ticks": ""
           }
          },
          "title": {
           "x": 0.05
          },
          "xaxis": {
           "automargin": true,
           "gridcolor": "white",
           "linecolor": "white",
           "ticks": "",
           "title": {
            "standoff": 15
           },
           "zerolinecolor": "white",
           "zerolinewidth": 2
          },
          "yaxis": {
           "automargin": true,
           "gridcolor": "white",
           "linecolor": "white",
           "ticks": "",
           "title": {
            "standoff": 15
           },
           "zerolinecolor": "white",
           "zerolinewidth": 2
          }
         }
        },
        "title": {
         "text": "Number of big-data-and-cloud-computing positions posted on 04-14 in USA"
        },
        "updatemenus": [
         {
          "buttons": [
           {
            "args": [
             {
              "visible": [
               true,
               false,
               false,
               false,
               false,
               false,
               false,
               false,
               false
              ]
             },
             {
              "title": "Number of big-data-and-cloud-computing position posted on 04-14 in USA"
             }
            ],
            "label": "big-data-and-cloud-computing",
            "method": "update"
           },
           {
            "args": [
             {
              "visible": [
               false,
               true,
               false,
               false,
               false,
               false,
               false,
               false,
               false
              ]
             },
             {
              "title": "Number of block-chain position posted on 04-14 in USA"
             }
            ],
            "label": "block-chain",
            "method": "update"
           },
           {
            "args": [
             {
              "visible": [
               false,
               false,
               true,
               false,
               false,
               false,
               false,
               false,
               false
              ]
             },
             {
              "title": "Number of data-analyst position posted on 04-14 in USA"
             }
            ],
            "label": "data-analyst",
            "method": "update"
           },
           {
            "args": [
             {
              "visible": [
               false,
               false,
               false,
               true,
               false,
               false,
               false,
               false,
               false
              ]
             },
             {
              "title": "Number of data-scientist position posted on 04-14 in USA"
             }
            ],
            "label": "data-scientist",
            "method": "update"
           },
           {
            "args": [
             {
              "visible": [
               false,
               false,
               false,
               false,
               true,
               false,
               false,
               false,
               false
              ]
             },
             {
              "title": "Number of deep-learning position posted on 04-14 in USA"
             }
            ],
            "label": "deep-learning",
            "method": "update"
           },
           {
            "args": [
             {
              "visible": [
               false,
               false,
               false,
               false,
               false,
               true,
               false,
               false,
               false
              ]
             },
             {
              "title": "Number of machine-learning position posted on 04-14 in USA"
             }
            ],
            "label": "machine-learning",
            "method": "update"
           },
           {
            "args": [
             {
              "visible": [
               false,
               false,
               false,
               false,
               false,
               false,
               true,
               false,
               false
              ]
             },
             {
              "title": "Number of natural-language-processing position posted on 04-14 in USA"
             }
            ],
            "label": "natural-language-processing",
            "method": "update"
           },
           {
            "args": [
             {
              "visible": [
               false,
               false,
               false,
               false,
               false,
               false,
               false,
               true,
               false
              ]
             },
             {
              "title": "Number of neural-networks position posted on 04-14 in USA"
             }
            ],
            "label": "neural-networks",
            "method": "update"
           },
           {
            "args": [
             {
              "visible": [
               false,
               false,
               false,
               false,
               false,
               false,
               false,
               false,
               true
              ]
             },
             {
              "title": "Number of reinforcement-learning position posted on 04-14 in USA"
             }
            ],
            "label": "reinforcement-learning",
            "method": "update"
           }
          ],
          "direction": "down",
          "pad": {
           "r": 10,
           "t": 10
          },
          "showactive": true,
          "x": 1,
          "xanchor": "left",
          "y": 1.2,
          "yanchor": "top"
         }
        ],
        "xaxis": {
         "title": {
          "text": "Company Name"
         }
        },
        "yaxis": {
         "title": {
          "text": "Number of Jobs"
         }
        }
       }
      }
     },
     "metadata": {},
     "output_type": "display_data"
    }
   ],
   "source": [
    "fig = go.Figure()\n",
    "colors = ['#9b2226', '#ae2012', '#bb3e03',\"#ca6702\",\"#ee9b00\",\"#e9d8a6\",\"#94d2bd\",\"#0a9396\",\"#005f73\",\"#001219\"]\n",
    "for j,n in enumerate(classes):\n",
    "    df_sub = df_USA[df_USA[\"type\"] == n]\n",
    "    df_sub = df_sub[\"company_name\"].value_counts().head(10)\n",
    "    if j == 0:\n",
    "        vis = True\n",
    "    else:\n",
    "        vis = False\n",
    "    fig.add_trace(go.Bar(x=df_sub.index, y =df_sub.values,\n",
    "                         marker = dict(\n",
    "                color = colors,\n",
    "                line=dict(color='rgb(8,48,107)',width=1.5),\n",
    "                    opacity = 0.6), visible=vis))\n",
    "\n",
    "buttons = []\n",
    "for j, n in enumerate(classes):\n",
    "    vis = [False] * len(classes)\n",
    "    vis[j] = True\n",
    "    buttons.append(dict(label = n,\n",
    "                 method = 'update',\n",
    "                 args = [{'visible': vis},\n",
    "                         {'title': \"Number of \"+n+\" position posted on 04-14 in USA\"}]))\n",
    "fig.update_layout(\n",
    "    updatemenus=[\n",
    "        dict(\n",
    "            buttons=buttons,\n",
    "            # PLACEMENT AND META DATA FOR THE BUTTON\n",
    "            direction=\"down\",\n",
    "            showactive=True,  # HIGHLIGHTS ACTIVE DROPDOWN ITEM OR ACTIVE BUTTON IF TRUE\n",
    "            pad={\"r\": 10, \"t\": 10},  # PADDING\n",
    "            x=1,  # POSITION\n",
    "            y=1.2,\n",
    "            xanchor=\"left\",  # ANCHOR POINT\n",
    "            yanchor=\"top\",\n",
    "        )\n",
    "    ])\n",
    "fig.update_layout(title=\"Number of big-data-and-cloud-computing positions posted on 04-14 in USA\", xaxis_title=\"Company Name\", yaxis_title=\"Number of Jobs\")\n",
    "fig.show()\n",
    "fig.write_html(\"website/companys.html\")"
   ]
  },
  {
   "cell_type": "code",
   "execution_count": 193,
   "metadata": {},
   "outputs": [
    {
     "data": {
      "application/vnd.plotly.v1+json": {
       "config": {
        "plotlyServerURL": "https://plot.ly"
       },
       "data": [
        {
         "marker": {
          "color": [
           "#9b2226",
           "#ae2012",
           "#bb3e03",
           "#ca6702",
           "#ee9b00",
           "#e9d8a6",
           "#94d2bd",
           "#0a9396",
           "#005f73",
           "#001219"
          ],
          "line": {
           "color": "rgb(8,48,107)",
           "width": 1.5
          },
          "opacity": 0.6
         },
         "type": "bar",
         "visible": true,
         "x": [
          "ZipRecruiter",
          "Startup",
          "FOX44",
          "Google",
          "Karkidi",
          "Indeed",
          "Jooble",
          "Built",
          "Lever",
          "JobLeads"
         ],
         "y": [
          4,
          3,
          3,
          2,
          2,
          2,
          2,
          2,
          2,
          2
         ]
        },
        {
         "marker": {
          "color": [
           "#9b2226",
           "#ae2012",
           "#bb3e03",
           "#ca6702",
           "#ee9b00",
           "#e9d8a6",
           "#94d2bd",
           "#0a9396",
           "#005f73",
           "#001219"
          ],
          "line": {
           "color": "rgb(8,48,107)",
           "width": 1.5
          },
          "opacity": 0.6
         },
         "type": "bar",
         "visible": false,
         "x": [
          "AngelList",
          "LinkedIn",
          "Jobs",
          "ZipRecruiter",
          "Greenhouse",
          "Dice",
          "Upwork",
          "Built",
          "Boulder,",
          "Lever"
         ],
         "y": [
          6,
          5,
          4,
          4,
          3,
          3,
          3,
          2,
          2,
          2
         ]
        },
        {
         "marker": {
          "color": [
           "#9b2226",
           "#ae2012",
           "#bb3e03",
           "#ca6702",
           "#ee9b00",
           "#e9d8a6",
           "#94d2bd",
           "#0a9396",
           "#005f73",
           "#001219"
          ],
          "line": {
           "color": "rgb(8,48,107)",
           "width": 1.5
          },
          "opacity": 0.6
         },
         "type": "bar",
         "visible": false,
         "x": [
          "LinkedIn",
          "Centene",
          "Lever",
          "ZipRecruiter",
          "Workday",
          "Upwork",
          "Walmart",
          "Government",
          "Cox",
          "Airswift"
         ],
         "y": [
          6,
          3,
          3,
          3,
          3,
          2,
          2,
          2,
          2,
          2
         ]
        },
        {
         "marker": {
          "color": [
           "#9b2226",
           "#ae2012",
           "#bb3e03",
           "#ca6702",
           "#ee9b00",
           "#e9d8a6",
           "#94d2bd",
           "#0a9396",
           "#005f73",
           "#001219"
          ],
          "line": {
           "color": "rgb(8,48,107)",
           "width": 1.5
          },
          "opacity": 0.6
         },
         "type": "bar",
         "visible": false,
         "x": [
          "ZipRecruiter",
          "LinkedIn",
          "Walmart",
          "Christus",
          "Careers",
          "Jobs",
          "Workday",
          "Built",
          "NextEra",
          "PNC"
         ],
         "y": [
          4,
          3,
          2,
          2,
          2,
          2,
          2,
          2,
          1,
          1
         ]
        },
        {
         "marker": {
          "color": [
           "#9b2226",
           "#ae2012",
           "#bb3e03",
           "#ca6702",
           "#ee9b00",
           "#e9d8a6",
           "#94d2bd",
           "#0a9396",
           "#005f73",
           "#001219"
          ],
          "line": {
           "color": "rgb(8,48,107)",
           "width": 1.5
          },
          "opacity": 0.6
         },
         "type": "bar",
         "visible": false,
         "x": [
          "LinkedIn",
          "JobLeads",
          "Greenhouse",
          "AngelList",
          "ZipRecruiter",
          "Lever",
          "Upwork",
          "Lensa",
          "Salary.com",
          "MoTek"
         ],
         "y": [
          5,
          3,
          3,
          3,
          2,
          2,
          2,
          2,
          2,
          1
         ]
        },
        {
         "marker": {
          "color": [
           "#9b2226",
           "#ae2012",
           "#bb3e03",
           "#ca6702",
           "#ee9b00",
           "#e9d8a6",
           "#94d2bd",
           "#0a9396",
           "#005f73",
           "#001219"
          ],
          "line": {
           "color": "rgb(8,48,107)",
           "width": 1.5
          },
          "opacity": 0.6
         },
         "type": "bar",
         "visible": false,
         "x": [
          "Careers",
          "Jobs",
          "Built",
          "LinkedIn",
          "Expedia",
          "Upwork",
          "Clearance",
          "The",
          "Lever",
          "ZipRecruiter"
         ],
         "y": [
          3,
          3,
          3,
          3,
          2,
          2,
          2,
          2,
          2,
          2
         ]
        },
        {
         "marker": {
          "color": [
           "#9b2226",
           "#ae2012",
           "#bb3e03",
           "#ca6702",
           "#ee9b00",
           "#e9d8a6",
           "#94d2bd",
           "#0a9396",
           "#005f73",
           "#001219"
          ],
          "line": {
           "color": "rgb(8,48,107)",
           "width": 1.5
          },
          "opacity": 0.6
         },
         "type": "bar",
         "visible": false,
         "x": [
          "Karkidi",
          "ZipRecruiter",
          "Jooble",
          "Snagajob",
          "Trabajo.org",
          "Jobs",
          "Indeed",
          "Mendeley",
          "StartWire",
          "Monster"
         ],
         "y": [
          4,
          4,
          3,
          3,
          2,
          2,
          2,
          2,
          2,
          2
         ]
        },
        {
         "marker": {
          "color": [
           "#9b2226",
           "#ae2012",
           "#bb3e03",
           "#ca6702",
           "#ee9b00",
           "#e9d8a6",
           "#94d2bd",
           "#0a9396",
           "#005f73",
           "#001219"
          ],
          "line": {
           "color": "rgb(8,48,107)",
           "width": 1.5
          },
          "opacity": 0.6
         },
         "type": "bar",
         "visible": false,
         "x": [
          "Upwork",
          "LinkedIn",
          "AngelList",
          "ZipRecruiter",
          "Careers",
          "HigherEdJobs",
          "Gen",
          "StartWire",
          "Menlo",
          "SmartRecruiters"
         ],
         "y": [
          18,
          5,
          4,
          3,
          2,
          1,
          1,
          1,
          1,
          1
         ]
        },
        {
         "marker": {
          "color": [
           "#9b2226",
           "#ae2012",
           "#bb3e03",
           "#ca6702",
           "#ee9b00",
           "#e9d8a6",
           "#94d2bd",
           "#0a9396",
           "#005f73",
           "#001219"
          ],
          "line": {
           "color": "rgb(8,48,107)",
           "width": 1.5
          },
          "opacity": 0.6
         },
         "type": "bar",
         "visible": false,
         "x": [
          "LinkedIn",
          "ZipRecruiter",
          "AngelList",
          "Careers",
          "Greenhouse",
          "Upwork",
          "SmartRecruiters",
          "ORNL",
          "Microsoft",
          "Lever"
         ],
         "y": [
          5,
          4,
          4,
          3,
          3,
          3,
          2,
          2,
          2,
          1
         ]
        }
       ],
       "layout": {
        "template": {
         "data": {
          "bar": [
           {
            "error_x": {
             "color": "#2a3f5f"
            },
            "error_y": {
             "color": "#2a3f5f"
            },
            "marker": {
             "line": {
              "color": "#E5ECF6",
              "width": 0.5
             },
             "pattern": {
              "fillmode": "overlay",
              "size": 10,
              "solidity": 0.2
             }
            },
            "type": "bar"
           }
          ],
          "barpolar": [
           {
            "marker": {
             "line": {
              "color": "#E5ECF6",
              "width": 0.5
             },
             "pattern": {
              "fillmode": "overlay",
              "size": 10,
              "solidity": 0.2
             }
            },
            "type": "barpolar"
           }
          ],
          "carpet": [
           {
            "aaxis": {
             "endlinecolor": "#2a3f5f",
             "gridcolor": "white",
             "linecolor": "white",
             "minorgridcolor": "white",
             "startlinecolor": "#2a3f5f"
            },
            "baxis": {
             "endlinecolor": "#2a3f5f",
             "gridcolor": "white",
             "linecolor": "white",
             "minorgridcolor": "white",
             "startlinecolor": "#2a3f5f"
            },
            "type": "carpet"
           }
          ],
          "choropleth": [
           {
            "colorbar": {
             "outlinewidth": 0,
             "ticks": ""
            },
            "type": "choropleth"
           }
          ],
          "contour": [
           {
            "colorbar": {
             "outlinewidth": 0,
             "ticks": ""
            },
            "colorscale": [
             [
              0,
              "#0d0887"
             ],
             [
              0.1111111111111111,
              "#46039f"
             ],
             [
              0.2222222222222222,
              "#7201a8"
             ],
             [
              0.3333333333333333,
              "#9c179e"
             ],
             [
              0.4444444444444444,
              "#bd3786"
             ],
             [
              0.5555555555555556,
              "#d8576b"
             ],
             [
              0.6666666666666666,
              "#ed7953"
             ],
             [
              0.7777777777777778,
              "#fb9f3a"
             ],
             [
              0.8888888888888888,
              "#fdca26"
             ],
             [
              1,
              "#f0f921"
             ]
            ],
            "type": "contour"
           }
          ],
          "contourcarpet": [
           {
            "colorbar": {
             "outlinewidth": 0,
             "ticks": ""
            },
            "type": "contourcarpet"
           }
          ],
          "heatmap": [
           {
            "colorbar": {
             "outlinewidth": 0,
             "ticks": ""
            },
            "colorscale": [
             [
              0,
              "#0d0887"
             ],
             [
              0.1111111111111111,
              "#46039f"
             ],
             [
              0.2222222222222222,
              "#7201a8"
             ],
             [
              0.3333333333333333,
              "#9c179e"
             ],
             [
              0.4444444444444444,
              "#bd3786"
             ],
             [
              0.5555555555555556,
              "#d8576b"
             ],
             [
              0.6666666666666666,
              "#ed7953"
             ],
             [
              0.7777777777777778,
              "#fb9f3a"
             ],
             [
              0.8888888888888888,
              "#fdca26"
             ],
             [
              1,
              "#f0f921"
             ]
            ],
            "type": "heatmap"
           }
          ],
          "heatmapgl": [
           {
            "colorbar": {
             "outlinewidth": 0,
             "ticks": ""
            },
            "colorscale": [
             [
              0,
              "#0d0887"
             ],
             [
              0.1111111111111111,
              "#46039f"
             ],
             [
              0.2222222222222222,
              "#7201a8"
             ],
             [
              0.3333333333333333,
              "#9c179e"
             ],
             [
              0.4444444444444444,
              "#bd3786"
             ],
             [
              0.5555555555555556,
              "#d8576b"
             ],
             [
              0.6666666666666666,
              "#ed7953"
             ],
             [
              0.7777777777777778,
              "#fb9f3a"
             ],
             [
              0.8888888888888888,
              "#fdca26"
             ],
             [
              1,
              "#f0f921"
             ]
            ],
            "type": "heatmapgl"
           }
          ],
          "histogram": [
           {
            "marker": {
             "pattern": {
              "fillmode": "overlay",
              "size": 10,
              "solidity": 0.2
             }
            },
            "type": "histogram"
           }
          ],
          "histogram2d": [
           {
            "colorbar": {
             "outlinewidth": 0,
             "ticks": ""
            },
            "colorscale": [
             [
              0,
              "#0d0887"
             ],
             [
              0.1111111111111111,
              "#46039f"
             ],
             [
              0.2222222222222222,
              "#7201a8"
             ],
             [
              0.3333333333333333,
              "#9c179e"
             ],
             [
              0.4444444444444444,
              "#bd3786"
             ],
             [
              0.5555555555555556,
              "#d8576b"
             ],
             [
              0.6666666666666666,
              "#ed7953"
             ],
             [
              0.7777777777777778,
              "#fb9f3a"
             ],
             [
              0.8888888888888888,
              "#fdca26"
             ],
             [
              1,
              "#f0f921"
             ]
            ],
            "type": "histogram2d"
           }
          ],
          "histogram2dcontour": [
           {
            "colorbar": {
             "outlinewidth": 0,
             "ticks": ""
            },
            "colorscale": [
             [
              0,
              "#0d0887"
             ],
             [
              0.1111111111111111,
              "#46039f"
             ],
             [
              0.2222222222222222,
              "#7201a8"
             ],
             [
              0.3333333333333333,
              "#9c179e"
             ],
             [
              0.4444444444444444,
              "#bd3786"
             ],
             [
              0.5555555555555556,
              "#d8576b"
             ],
             [
              0.6666666666666666,
              "#ed7953"
             ],
             [
              0.7777777777777778,
              "#fb9f3a"
             ],
             [
              0.8888888888888888,
              "#fdca26"
             ],
             [
              1,
              "#f0f921"
             ]
            ],
            "type": "histogram2dcontour"
           }
          ],
          "mesh3d": [
           {
            "colorbar": {
             "outlinewidth": 0,
             "ticks": ""
            },
            "type": "mesh3d"
           }
          ],
          "parcoords": [
           {
            "line": {
             "colorbar": {
              "outlinewidth": 0,
              "ticks": ""
             }
            },
            "type": "parcoords"
           }
          ],
          "pie": [
           {
            "automargin": true,
            "type": "pie"
           }
          ],
          "scatter": [
           {
            "fillpattern": {
             "fillmode": "overlay",
             "size": 10,
             "solidity": 0.2
            },
            "type": "scatter"
           }
          ],
          "scatter3d": [
           {
            "line": {
             "colorbar": {
              "outlinewidth": 0,
              "ticks": ""
             }
            },
            "marker": {
             "colorbar": {
              "outlinewidth": 0,
              "ticks": ""
             }
            },
            "type": "scatter3d"
           }
          ],
          "scattercarpet": [
           {
            "marker": {
             "colorbar": {
              "outlinewidth": 0,
              "ticks": ""
             }
            },
            "type": "scattercarpet"
           }
          ],
          "scattergeo": [
           {
            "marker": {
             "colorbar": {
              "outlinewidth": 0,
              "ticks": ""
             }
            },
            "type": "scattergeo"
           }
          ],
          "scattergl": [
           {
            "marker": {
             "colorbar": {
              "outlinewidth": 0,
              "ticks": ""
             }
            },
            "type": "scattergl"
           }
          ],
          "scattermapbox": [
           {
            "marker": {
             "colorbar": {
              "outlinewidth": 0,
              "ticks": ""
             }
            },
            "type": "scattermapbox"
           }
          ],
          "scatterpolar": [
           {
            "marker": {
             "colorbar": {
              "outlinewidth": 0,
              "ticks": ""
             }
            },
            "type": "scatterpolar"
           }
          ],
          "scatterpolargl": [
           {
            "marker": {
             "colorbar": {
              "outlinewidth": 0,
              "ticks": ""
             }
            },
            "type": "scatterpolargl"
           }
          ],
          "scatterternary": [
           {
            "marker": {
             "colorbar": {
              "outlinewidth": 0,
              "ticks": ""
             }
            },
            "type": "scatterternary"
           }
          ],
          "surface": [
           {
            "colorbar": {
             "outlinewidth": 0,
             "ticks": ""
            },
            "colorscale": [
             [
              0,
              "#0d0887"
             ],
             [
              0.1111111111111111,
              "#46039f"
             ],
             [
              0.2222222222222222,
              "#7201a8"
             ],
             [
              0.3333333333333333,
              "#9c179e"
             ],
             [
              0.4444444444444444,
              "#bd3786"
             ],
             [
              0.5555555555555556,
              "#d8576b"
             ],
             [
              0.6666666666666666,
              "#ed7953"
             ],
             [
              0.7777777777777778,
              "#fb9f3a"
             ],
             [
              0.8888888888888888,
              "#fdca26"
             ],
             [
              1,
              "#f0f921"
             ]
            ],
            "type": "surface"
           }
          ],
          "table": [
           {
            "cells": {
             "fill": {
              "color": "#EBF0F8"
             },
             "line": {
              "color": "white"
             }
            },
            "header": {
             "fill": {
              "color": "#C8D4E3"
             },
             "line": {
              "color": "white"
             }
            },
            "type": "table"
           }
          ]
         },
         "layout": {
          "annotationdefaults": {
           "arrowcolor": "#2a3f5f",
           "arrowhead": 0,
           "arrowwidth": 1
          },
          "autotypenumbers": "strict",
          "coloraxis": {
           "colorbar": {
            "outlinewidth": 0,
            "ticks": ""
           }
          },
          "colorscale": {
           "diverging": [
            [
             0,
             "#8e0152"
            ],
            [
             0.1,
             "#c51b7d"
            ],
            [
             0.2,
             "#de77ae"
            ],
            [
             0.3,
             "#f1b6da"
            ],
            [
             0.4,
             "#fde0ef"
            ],
            [
             0.5,
             "#f7f7f7"
            ],
            [
             0.6,
             "#e6f5d0"
            ],
            [
             0.7,
             "#b8e186"
            ],
            [
             0.8,
             "#7fbc41"
            ],
            [
             0.9,
             "#4d9221"
            ],
            [
             1,
             "#276419"
            ]
           ],
           "sequential": [
            [
             0,
             "#0d0887"
            ],
            [
             0.1111111111111111,
             "#46039f"
            ],
            [
             0.2222222222222222,
             "#7201a8"
            ],
            [
             0.3333333333333333,
             "#9c179e"
            ],
            [
             0.4444444444444444,
             "#bd3786"
            ],
            [
             0.5555555555555556,
             "#d8576b"
            ],
            [
             0.6666666666666666,
             "#ed7953"
            ],
            [
             0.7777777777777778,
             "#fb9f3a"
            ],
            [
             0.8888888888888888,
             "#fdca26"
            ],
            [
             1,
             "#f0f921"
            ]
           ],
           "sequentialminus": [
            [
             0,
             "#0d0887"
            ],
            [
             0.1111111111111111,
             "#46039f"
            ],
            [
             0.2222222222222222,
             "#7201a8"
            ],
            [
             0.3333333333333333,
             "#9c179e"
            ],
            [
             0.4444444444444444,
             "#bd3786"
            ],
            [
             0.5555555555555556,
             "#d8576b"
            ],
            [
             0.6666666666666666,
             "#ed7953"
            ],
            [
             0.7777777777777778,
             "#fb9f3a"
            ],
            [
             0.8888888888888888,
             "#fdca26"
            ],
            [
             1,
             "#f0f921"
            ]
           ]
          },
          "colorway": [
           "#636efa",
           "#EF553B",
           "#00cc96",
           "#ab63fa",
           "#FFA15A",
           "#19d3f3",
           "#FF6692",
           "#B6E880",
           "#FF97FF",
           "#FECB52"
          ],
          "font": {
           "color": "#2a3f5f"
          },
          "geo": {
           "bgcolor": "white",
           "lakecolor": "white",
           "landcolor": "#E5ECF6",
           "showlakes": true,
           "showland": true,
           "subunitcolor": "white"
          },
          "hoverlabel": {
           "align": "left"
          },
          "hovermode": "closest",
          "mapbox": {
           "style": "light"
          },
          "paper_bgcolor": "white",
          "plot_bgcolor": "#E5ECF6",
          "polar": {
           "angularaxis": {
            "gridcolor": "white",
            "linecolor": "white",
            "ticks": ""
           },
           "bgcolor": "#E5ECF6",
           "radialaxis": {
            "gridcolor": "white",
            "linecolor": "white",
            "ticks": ""
           }
          },
          "scene": {
           "xaxis": {
            "backgroundcolor": "#E5ECF6",
            "gridcolor": "white",
            "gridwidth": 2,
            "linecolor": "white",
            "showbackground": true,
            "ticks": "",
            "zerolinecolor": "white"
           },
           "yaxis": {
            "backgroundcolor": "#E5ECF6",
            "gridcolor": "white",
            "gridwidth": 2,
            "linecolor": "white",
            "showbackground": true,
            "ticks": "",
            "zerolinecolor": "white"
           },
           "zaxis": {
            "backgroundcolor": "#E5ECF6",
            "gridcolor": "white",
            "gridwidth": 2,
            "linecolor": "white",
            "showbackground": true,
            "ticks": "",
            "zerolinecolor": "white"
           }
          },
          "shapedefaults": {
           "line": {
            "color": "#2a3f5f"
           }
          },
          "ternary": {
           "aaxis": {
            "gridcolor": "white",
            "linecolor": "white",
            "ticks": ""
           },
           "baxis": {
            "gridcolor": "white",
            "linecolor": "white",
            "ticks": ""
           },
           "bgcolor": "#E5ECF6",
           "caxis": {
            "gridcolor": "white",
            "linecolor": "white",
            "ticks": ""
           }
          },
          "title": {
           "x": 0.05
          },
          "xaxis": {
           "automargin": true,
           "gridcolor": "white",
           "linecolor": "white",
           "ticks": "",
           "title": {
            "standoff": 15
           },
           "zerolinecolor": "white",
           "zerolinewidth": 2
          },
          "yaxis": {
           "automargin": true,
           "gridcolor": "white",
           "linecolor": "white",
           "ticks": "",
           "title": {
            "standoff": 15
           },
           "zerolinecolor": "white",
           "zerolinewidth": 2
          }
         }
        },
        "title": {
         "text": "Number of big-data-and-cloud-computing positions posted on 04-14 through each medium"
        },
        "updatemenus": [
         {
          "buttons": [
           {
            "args": [
             {
              "visible": [
               true,
               false,
               false,
               false,
               false,
               false,
               false,
               false,
               false
              ]
             },
             {
              "title": "Number of big-data-and-cloud-computing position posted on 04-14 through each medium "
             }
            ],
            "label": "big-data-and-cloud-computing",
            "method": "update"
           },
           {
            "args": [
             {
              "visible": [
               false,
               true,
               false,
               false,
               false,
               false,
               false,
               false,
               false
              ]
             },
             {
              "title": "Number of block-chain position posted on 04-14 through each medium "
             }
            ],
            "label": "block-chain",
            "method": "update"
           },
           {
            "args": [
             {
              "visible": [
               false,
               false,
               true,
               false,
               false,
               false,
               false,
               false,
               false
              ]
             },
             {
              "title": "Number of data-analyst position posted on 04-14 through each medium "
             }
            ],
            "label": "data-analyst",
            "method": "update"
           },
           {
            "args": [
             {
              "visible": [
               false,
               false,
               false,
               true,
               false,
               false,
               false,
               false,
               false
              ]
             },
             {
              "title": "Number of data-scientist position posted on 04-14 through each medium "
             }
            ],
            "label": "data-scientist",
            "method": "update"
           },
           {
            "args": [
             {
              "visible": [
               false,
               false,
               false,
               false,
               true,
               false,
               false,
               false,
               false
              ]
             },
             {
              "title": "Number of deep-learning position posted on 04-14 through each medium "
             }
            ],
            "label": "deep-learning",
            "method": "update"
           },
           {
            "args": [
             {
              "visible": [
               false,
               false,
               false,
               false,
               false,
               true,
               false,
               false,
               false
              ]
             },
             {
              "title": "Number of machine-learning position posted on 04-14 through each medium "
             }
            ],
            "label": "machine-learning",
            "method": "update"
           },
           {
            "args": [
             {
              "visible": [
               false,
               false,
               false,
               false,
               false,
               false,
               true,
               false,
               false
              ]
             },
             {
              "title": "Number of natural-language-processing position posted on 04-14 through each medium "
             }
            ],
            "label": "natural-language-processing",
            "method": "update"
           },
           {
            "args": [
             {
              "visible": [
               false,
               false,
               false,
               false,
               false,
               false,
               false,
               true,
               false
              ]
             },
             {
              "title": "Number of neural-networks position posted on 04-14 through each medium "
             }
            ],
            "label": "neural-networks",
            "method": "update"
           },
           {
            "args": [
             {
              "visible": [
               false,
               false,
               false,
               false,
               false,
               false,
               false,
               false,
               true
              ]
             },
             {
              "title": "Number of reinforcement-learning position posted on 04-14 through each medium "
             }
            ],
            "label": "reinforcement-learning",
            "method": "update"
           }
          ],
          "direction": "down",
          "pad": {
           "r": 10,
           "t": 10
          },
          "showactive": true,
          "x": 1,
          "xanchor": "left",
          "y": 1.2,
          "yanchor": "top"
         }
        ],
        "yaxis": {
         "title": {
          "text": "Number of Jobs"
         }
        }
       }
      }
     },
     "metadata": {},
     "output_type": "display_data"
    }
   ],
   "source": [
    "fig = go.Figure()\n",
    "colors = ['#9b2226', '#ae2012', '#bb3e03',\"#ca6702\",\"#ee9b00\",\"#e9d8a6\",\"#94d2bd\",\"#0a9396\",\"#005f73\",\"#001219\"]\n",
    "for j,n in enumerate(classes):\n",
    "    df_sub = df_USA[df_USA[\"type\"] == n]\n",
    "    df_sub = df_sub[\"via\"].value_counts().head(10)\n",
    "    if j == 0:\n",
    "        vis = True\n",
    "    else:\n",
    "        vis = False\n",
    "    fig.add_trace(go.Bar(x=df_sub.index, y =df_sub.values,\n",
    "                         marker = dict(\n",
    "                color = colors,\n",
    "                line=dict(color='rgb(8,48,107)',width=1.5),\n",
    "                    opacity = 0.6), visible=vis))\n",
    "\n",
    "buttons = []\n",
    "for j, n in enumerate(classes):\n",
    "    vis = [False] * len(classes)\n",
    "    vis[j] = True\n",
    "    buttons.append(dict(label = n,\n",
    "                 method = 'update',\n",
    "                 args = [{'visible': vis},\n",
    "                         {'title': \"Number of \"+n+\" position posted on 04-14 through each medium \"}]))\n",
    "fig.update_layout(\n",
    "    updatemenus=[\n",
    "        dict(\n",
    "            buttons=buttons,\n",
    "            # PLACEMENT AND META DATA FOR THE BUTTON\n",
    "            direction=\"down\",\n",
    "            showactive=True,  # HIGHLIGHTS ACTIVE DROPDOWN ITEM OR ACTIVE BUTTON IF TRUE\n",
    "            pad={\"r\": 10, \"t\": 10},  # PADDING\n",
    "            x=1,  # POSITION\n",
    "            y=1.2,\n",
    "            xanchor=\"left\",  # ANCHOR POINT\n",
    "            yanchor=\"top\",\n",
    "        )\n",
    "    ])\n",
    "fig.update_layout(title=\"Number of big-data-and-cloud-computing positions posted on 04-14 through each medium\", yaxis_title=\"Number of Jobs\")\n",
    "fig.show()\n",
    "fig.write_html(\"website/via.html\")"
   ]
  }
 ],
 "metadata": {
  "kernelspec": {
   "display_name": "envname",
   "language": "python",
   "name": "envname"
  },
  "language_info": {
   "codemirror_mode": {
    "name": "ipython",
    "version": 3
   },
   "file_extension": ".py",
   "mimetype": "text/x-python",
   "name": "python",
   "nbconvert_exporter": "python",
   "pygments_lexer": "ipython3",
   "version": "3.10.4"
  },
  "orig_nbformat": 4
 },
 "nbformat": 4,
 "nbformat_minor": 2
}
